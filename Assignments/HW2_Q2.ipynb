{
  "nbformat": 4,
  "nbformat_minor": 0,
  "metadata": {
    "colab": {
      "provenance": []
    },
    "kernelspec": {
      "name": "python3",
      "display_name": "Python 3"
    },
    "language_info": {
      "name": "python"
    }
  },
  "cells": [
    {
      "cell_type": "markdown",
      "metadata": {
        "id": "sL7Kdp3moNka"
      },
      "source": [
        "# HW2 Question 2"
      ]
    },
    {
      "cell_type": "markdown",
      "metadata": {
        "id": "pYaVGfd4qO0B"
      },
      "source": [
        "## Import modules"
      ]
    },
    {
      "cell_type": "code",
      "metadata": {
        "id": "KWlSMPV4oLDw"
      },
      "source": [
        "import pandas as pd # for data handling\n",
        "from sklearn.model_selection import cross_val_score # for cross-validation\n",
        "from sklearn.metrics import accuracy_score, classification_report, confusion_matrix # evaluation metrics\n",
        "import matplotlib.pyplot as plt # for plotting\n",
        "\n",
        "# scikit-learn classifiers evaluated (change as desired)\n",
        "from sklearn.naive_bayes import GaussianNB\n",
        "from sklearn.tree import DecisionTreeClassifier, plot_tree\n",
        "from sklearn.ensemble import RandomForestClassifier, ExtraTreesClassifier\n",
        "from sklearn.neighbors import KNeighborsClassifier\n",
        "from sklearn.linear_model import LogisticRegression\n",
        "from sklearn.svm import SVC\n",
        "from sklearn.neural_network import MLPClassifier"
      ],
      "execution_count": 1,
      "outputs": []
    },
    {
      "cell_type": "markdown",
      "metadata": {
        "id": "qFXeyqMfqSTQ"
      },
      "source": [
        "## Get data"
      ]
    },
    {
      "cell_type": "markdown",
      "metadata": {
        "id": "d7UZjWh77hmQ"
      },
      "source": [
        "### Extract *CSV* files from *zip* file\n"
      ]
    },
    {
      "cell_type": "code",
      "metadata": {
        "colab": {
          "base_uri": "https://localhost:8080/"
        },
        "id": "qnSnuRaDqbWQ",
        "outputId": "432ed9b0-c425-4d81-c59a-6e63452b5b44"
      },
      "source": [
        "! unzip '/content/drive/MyDrive/Colab Notebooks/courses/sklearn_classifiers/homework/hw2.q2.data.zip'"
      ],
      "execution_count": 2,
      "outputs": [
        {
          "output_type": "stream",
          "name": "stdout",
          "text": [
            "Archive:  /content/drive/MyDrive/Colab Notebooks/courses/sklearn_classifiers/homework/hw2.q2.data.zip\n",
            "  inflating: hw2.q2.new.csv          \n",
            "  inflating: hw2.q2.test.csv         \n",
            "  inflating: hw2.q2.train.csv        \n"
          ]
        }
      ]
    },
    {
      "cell_type": "markdown",
      "metadata": {
        "id": "z_Q4wVD18cpP"
      },
      "source": [
        "### Read data into *pandas* dataframes"
      ]
    },
    {
      "cell_type": "code",
      "metadata": {
        "colab": {
          "base_uri": "https://localhost:8080/",
          "height": 213
        },
        "id": "3LNrsgt9qgYQ",
        "outputId": "a8f01bf5-51b7-4e89-dbaa-7b9237b8131c"
      },
      "source": [
        "# Read data from CSV files into pandas dataframes\n",
        "train = pd.read_csv('hw2.q2.train.csv') # training data\n",
        "test = pd.read_csv('hw2.q2.test.csv') # test data\n",
        "new = pd.read_csv('hw2.q2.new.csv') # unlabeled data\n",
        "# Show number of rows and columns in each dataframe\n",
        "print('train contains %d rows and %d columns' %train.shape)\n",
        "print('test contains %d rows and %d columns' %test.shape)\n",
        "print('new contains %d rows and %d columns' %new.shape)\n",
        "print('First 3 rows in train:')\n",
        "train.head(3) # display first 3 training samples"
      ],
      "execution_count": 3,
      "outputs": [
        {
          "output_type": "stream",
          "name": "stdout",
          "text": [
            "train contains 8000 rows and 11 columns\n",
            "test contains 2000 rows and 11 columns\n",
            "new contains 30 rows and 11 columns\n",
            "First 3 rows in train:\n"
          ]
        },
        {
          "output_type": "execute_result",
          "data": {
            "text/plain": [
              "     y     x1     x2     x3     x4     x5     x6     x7     x8     x9    x10\n",
              "0  2.0 -0.613 -1.465 -1.105  0.436 -1.658 -1.357 -2.375 -0.997 -0.653  1.186\n",
              "1  1.0 -1.154  0.473  3.159 -4.770  0.402 -0.160 -1.925 -0.105 -2.304  0.032\n",
              "2  2.0  0.147 -0.814 -0.792 -1.403  2.124 -2.263 -2.133 -2.461 -0.781  0.932"
            ],
            "text/html": [
              "\n",
              "  <div id=\"df-dc4fbf1c-a865-4281-b5ee-24b92ff0b645\" class=\"colab-df-container\">\n",
              "    <div>\n",
              "<style scoped>\n",
              "    .dataframe tbody tr th:only-of-type {\n",
              "        vertical-align: middle;\n",
              "    }\n",
              "\n",
              "    .dataframe tbody tr th {\n",
              "        vertical-align: top;\n",
              "    }\n",
              "\n",
              "    .dataframe thead th {\n",
              "        text-align: right;\n",
              "    }\n",
              "</style>\n",
              "<table border=\"1\" class=\"dataframe\">\n",
              "  <thead>\n",
              "    <tr style=\"text-align: right;\">\n",
              "      <th></th>\n",
              "      <th>y</th>\n",
              "      <th>x1</th>\n",
              "      <th>x2</th>\n",
              "      <th>x3</th>\n",
              "      <th>x4</th>\n",
              "      <th>x5</th>\n",
              "      <th>x6</th>\n",
              "      <th>x7</th>\n",
              "      <th>x8</th>\n",
              "      <th>x9</th>\n",
              "      <th>x10</th>\n",
              "    </tr>\n",
              "  </thead>\n",
              "  <tbody>\n",
              "    <tr>\n",
              "      <th>0</th>\n",
              "      <td>2.0</td>\n",
              "      <td>-0.613</td>\n",
              "      <td>-1.465</td>\n",
              "      <td>-1.105</td>\n",
              "      <td>0.436</td>\n",
              "      <td>-1.658</td>\n",
              "      <td>-1.357</td>\n",
              "      <td>-2.375</td>\n",
              "      <td>-0.997</td>\n",
              "      <td>-0.653</td>\n",
              "      <td>1.186</td>\n",
              "    </tr>\n",
              "    <tr>\n",
              "      <th>1</th>\n",
              "      <td>1.0</td>\n",
              "      <td>-1.154</td>\n",
              "      <td>0.473</td>\n",
              "      <td>3.159</td>\n",
              "      <td>-4.770</td>\n",
              "      <td>0.402</td>\n",
              "      <td>-0.160</td>\n",
              "      <td>-1.925</td>\n",
              "      <td>-0.105</td>\n",
              "      <td>-2.304</td>\n",
              "      <td>0.032</td>\n",
              "    </tr>\n",
              "    <tr>\n",
              "      <th>2</th>\n",
              "      <td>2.0</td>\n",
              "      <td>0.147</td>\n",
              "      <td>-0.814</td>\n",
              "      <td>-0.792</td>\n",
              "      <td>-1.403</td>\n",
              "      <td>2.124</td>\n",
              "      <td>-2.263</td>\n",
              "      <td>-2.133</td>\n",
              "      <td>-2.461</td>\n",
              "      <td>-0.781</td>\n",
              "      <td>0.932</td>\n",
              "    </tr>\n",
              "  </tbody>\n",
              "</table>\n",
              "</div>\n",
              "    <div class=\"colab-df-buttons\">\n",
              "\n",
              "  <div class=\"colab-df-container\">\n",
              "    <button class=\"colab-df-convert\" onclick=\"convertToInteractive('df-dc4fbf1c-a865-4281-b5ee-24b92ff0b645')\"\n",
              "            title=\"Convert this dataframe to an interactive table.\"\n",
              "            style=\"display:none;\">\n",
              "\n",
              "  <svg xmlns=\"http://www.w3.org/2000/svg\" height=\"24px\" viewBox=\"0 -960 960 960\">\n",
              "    <path d=\"M120-120v-720h720v720H120Zm60-500h600v-160H180v160Zm220 220h160v-160H400v160Zm0 220h160v-160H400v160ZM180-400h160v-160H180v160Zm440 0h160v-160H620v160ZM180-180h160v-160H180v160Zm440 0h160v-160H620v160Z\"/>\n",
              "  </svg>\n",
              "    </button>\n",
              "\n",
              "  <style>\n",
              "    .colab-df-container {\n",
              "      display:flex;\n",
              "      gap: 12px;\n",
              "    }\n",
              "\n",
              "    .colab-df-convert {\n",
              "      background-color: #E8F0FE;\n",
              "      border: none;\n",
              "      border-radius: 50%;\n",
              "      cursor: pointer;\n",
              "      display: none;\n",
              "      fill: #1967D2;\n",
              "      height: 32px;\n",
              "      padding: 0 0 0 0;\n",
              "      width: 32px;\n",
              "    }\n",
              "\n",
              "    .colab-df-convert:hover {\n",
              "      background-color: #E2EBFA;\n",
              "      box-shadow: 0px 1px 2px rgba(60, 64, 67, 0.3), 0px 1px 3px 1px rgba(60, 64, 67, 0.15);\n",
              "      fill: #174EA6;\n",
              "    }\n",
              "\n",
              "    .colab-df-buttons div {\n",
              "      margin-bottom: 4px;\n",
              "    }\n",
              "\n",
              "    [theme=dark] .colab-df-convert {\n",
              "      background-color: #3B4455;\n",
              "      fill: #D2E3FC;\n",
              "    }\n",
              "\n",
              "    [theme=dark] .colab-df-convert:hover {\n",
              "      background-color: #434B5C;\n",
              "      box-shadow: 0px 1px 3px 1px rgba(0, 0, 0, 0.15);\n",
              "      filter: drop-shadow(0px 1px 2px rgba(0, 0, 0, 0.3));\n",
              "      fill: #FFFFFF;\n",
              "    }\n",
              "  </style>\n",
              "\n",
              "    <script>\n",
              "      const buttonEl =\n",
              "        document.querySelector('#df-dc4fbf1c-a865-4281-b5ee-24b92ff0b645 button.colab-df-convert');\n",
              "      buttonEl.style.display =\n",
              "        google.colab.kernel.accessAllowed ? 'block' : 'none';\n",
              "\n",
              "      async function convertToInteractive(key) {\n",
              "        const element = document.querySelector('#df-dc4fbf1c-a865-4281-b5ee-24b92ff0b645');\n",
              "        const dataTable =\n",
              "          await google.colab.kernel.invokeFunction('convertToInteractive',\n",
              "                                                    [key], {});\n",
              "        if (!dataTable) return;\n",
              "\n",
              "        const docLinkHtml = 'Like what you see? Visit the ' +\n",
              "          '<a target=\"_blank\" href=https://colab.research.google.com/notebooks/data_table.ipynb>data table notebook</a>'\n",
              "          + ' to learn more about interactive tables.';\n",
              "        element.innerHTML = '';\n",
              "        dataTable['output_type'] = 'display_data';\n",
              "        await google.colab.output.renderOutput(dataTable, element);\n",
              "        const docLink = document.createElement('div');\n",
              "        docLink.innerHTML = docLinkHtml;\n",
              "        element.appendChild(docLink);\n",
              "      }\n",
              "    </script>\n",
              "  </div>\n",
              "\n",
              "\n",
              "<div id=\"df-3c8f6075-f77b-4b2a-90de-8a62b0b0cf97\">\n",
              "  <button class=\"colab-df-quickchart\" onclick=\"quickchart('df-3c8f6075-f77b-4b2a-90de-8a62b0b0cf97')\"\n",
              "            title=\"Suggest charts.\"\n",
              "            style=\"display:none;\">\n",
              "\n",
              "<svg xmlns=\"http://www.w3.org/2000/svg\" height=\"24px\"viewBox=\"0 0 24 24\"\n",
              "     width=\"24px\">\n",
              "    <g>\n",
              "        <path d=\"M19 3H5c-1.1 0-2 .9-2 2v14c0 1.1.9 2 2 2h14c1.1 0 2-.9 2-2V5c0-1.1-.9-2-2-2zM9 17H7v-7h2v7zm4 0h-2V7h2v10zm4 0h-2v-4h2v4z\"/>\n",
              "    </g>\n",
              "</svg>\n",
              "  </button>\n",
              "\n",
              "<style>\n",
              "  .colab-df-quickchart {\n",
              "      --bg-color: #E8F0FE;\n",
              "      --fill-color: #1967D2;\n",
              "      --hover-bg-color: #E2EBFA;\n",
              "      --hover-fill-color: #174EA6;\n",
              "      --disabled-fill-color: #AAA;\n",
              "      --disabled-bg-color: #DDD;\n",
              "  }\n",
              "\n",
              "  [theme=dark] .colab-df-quickchart {\n",
              "      --bg-color: #3B4455;\n",
              "      --fill-color: #D2E3FC;\n",
              "      --hover-bg-color: #434B5C;\n",
              "      --hover-fill-color: #FFFFFF;\n",
              "      --disabled-bg-color: #3B4455;\n",
              "      --disabled-fill-color: #666;\n",
              "  }\n",
              "\n",
              "  .colab-df-quickchart {\n",
              "    background-color: var(--bg-color);\n",
              "    border: none;\n",
              "    border-radius: 50%;\n",
              "    cursor: pointer;\n",
              "    display: none;\n",
              "    fill: var(--fill-color);\n",
              "    height: 32px;\n",
              "    padding: 0;\n",
              "    width: 32px;\n",
              "  }\n",
              "\n",
              "  .colab-df-quickchart:hover {\n",
              "    background-color: var(--hover-bg-color);\n",
              "    box-shadow: 0 1px 2px rgba(60, 64, 67, 0.3), 0 1px 3px 1px rgba(60, 64, 67, 0.15);\n",
              "    fill: var(--button-hover-fill-color);\n",
              "  }\n",
              "\n",
              "  .colab-df-quickchart-complete:disabled,\n",
              "  .colab-df-quickchart-complete:disabled:hover {\n",
              "    background-color: var(--disabled-bg-color);\n",
              "    fill: var(--disabled-fill-color);\n",
              "    box-shadow: none;\n",
              "  }\n",
              "\n",
              "  .colab-df-spinner {\n",
              "    border: 2px solid var(--fill-color);\n",
              "    border-color: transparent;\n",
              "    border-bottom-color: var(--fill-color);\n",
              "    animation:\n",
              "      spin 1s steps(1) infinite;\n",
              "  }\n",
              "\n",
              "  @keyframes spin {\n",
              "    0% {\n",
              "      border-color: transparent;\n",
              "      border-bottom-color: var(--fill-color);\n",
              "      border-left-color: var(--fill-color);\n",
              "    }\n",
              "    20% {\n",
              "      border-color: transparent;\n",
              "      border-left-color: var(--fill-color);\n",
              "      border-top-color: var(--fill-color);\n",
              "    }\n",
              "    30% {\n",
              "      border-color: transparent;\n",
              "      border-left-color: var(--fill-color);\n",
              "      border-top-color: var(--fill-color);\n",
              "      border-right-color: var(--fill-color);\n",
              "    }\n",
              "    40% {\n",
              "      border-color: transparent;\n",
              "      border-right-color: var(--fill-color);\n",
              "      border-top-color: var(--fill-color);\n",
              "    }\n",
              "    60% {\n",
              "      border-color: transparent;\n",
              "      border-right-color: var(--fill-color);\n",
              "    }\n",
              "    80% {\n",
              "      border-color: transparent;\n",
              "      border-right-color: var(--fill-color);\n",
              "      border-bottom-color: var(--fill-color);\n",
              "    }\n",
              "    90% {\n",
              "      border-color: transparent;\n",
              "      border-bottom-color: var(--fill-color);\n",
              "    }\n",
              "  }\n",
              "</style>\n",
              "\n",
              "  <script>\n",
              "    async function quickchart(key) {\n",
              "      const quickchartButtonEl =\n",
              "        document.querySelector('#' + key + ' button');\n",
              "      quickchartButtonEl.disabled = true;  // To prevent multiple clicks.\n",
              "      quickchartButtonEl.classList.add('colab-df-spinner');\n",
              "      try {\n",
              "        const charts = await google.colab.kernel.invokeFunction(\n",
              "            'suggestCharts', [key], {});\n",
              "      } catch (error) {\n",
              "        console.error('Error during call to suggestCharts:', error);\n",
              "      }\n",
              "      quickchartButtonEl.classList.remove('colab-df-spinner');\n",
              "      quickchartButtonEl.classList.add('colab-df-quickchart-complete');\n",
              "    }\n",
              "    (() => {\n",
              "      let quickchartButtonEl =\n",
              "        document.querySelector('#df-3c8f6075-f77b-4b2a-90de-8a62b0b0cf97 button');\n",
              "      quickchartButtonEl.style.display =\n",
              "        google.colab.kernel.accessAllowed ? 'block' : 'none';\n",
              "    })();\n",
              "  </script>\n",
              "</div>\n",
              "    </div>\n",
              "  </div>\n"
            ]
          },
          "metadata": {},
          "execution_count": 3
        }
      ]
    },
    {
      "cell_type": "markdown",
      "metadata": {
        "id": "Cy4SdaiY9lFo"
      },
      "source": [
        "### Specify inputs and outputs\n",
        "\n",
        "\n",
        "\n",
        "\n",
        "\n"
      ]
    },
    {
      "cell_type": "code",
      "metadata": {
        "colab": {
          "base_uri": "https://localhost:8080/"
        },
        "id": "GJ8ohEGf-Mi8",
        "outputId": "e54e02c9-4b84-4790-c1c9-ccdf0495ce5b"
      },
      "source": [
        "features = list(train)[1:] # all but the first column header are feature names\n",
        "print(\"features:\", features)\n",
        "X_train, X_test, X_new = train[features], test[features], new[features]\n",
        "y_train, y_test = train.y, test.y\n",
        "print('Shapes:')\n",
        "print(f'X_train: {X_train.shape}, X_test: {X_test.shape}, X_new: {X_new.shape}')\n",
        "print(f'y_train: {y_train.shape}, y_test: {y_test.shape}')"
      ],
      "execution_count": 4,
      "outputs": [
        {
          "output_type": "stream",
          "name": "stdout",
          "text": [
            "features: ['x1', 'x2', 'x3', 'x4', 'x5', 'x6', 'x7', 'x8', 'x9', 'x10']\n",
            "Shapes:\n",
            "X_train: (8000, 10), X_test: (2000, 10), X_new: (30, 10)\n",
            "y_train: (8000,), y_test: (2000,)\n"
          ]
        }
      ]
    },
    {
      "cell_type": "markdown",
      "metadata": {
        "id": "DnxBpRlZ-5I9"
      },
      "source": [
        "## Evaluate models using *k*-fold cross-validation"
      ]
    },
    {
      "cell_type": "markdown",
      "metadata": {
        "id": "5txUT58tqyFa"
      },
      "source": [
        "### GaussianNB\n",
        "\n",
        "https://scikit-learn.org/stable/modules/generated/sklearn.naive_bayes.GaussianNB.html"
      ]
    },
    {
      "cell_type": "code",
      "metadata": {
        "colab": {
          "base_uri": "https://localhost:8080/"
        },
        "id": "NrfDQpqMq8Jr",
        "outputId": "cf8c2447-7683-4055-8e0a-85bc39d298a3"
      },
      "source": [
        "%%time\n",
        "model = GaussianNB() # change hyperparameters as desired\n",
        "score = cross_val_score(model, X_train, y_train).mean() # mean cross-validation accuracy\n",
        "print(f'Mean cross-validation accuracy = {score:0.4f}')"
      ],
      "execution_count": 5,
      "outputs": [
        {
          "output_type": "stream",
          "name": "stdout",
          "text": [
            "Mean cross-validation accuracy = 0.8490\n",
            "CPU times: user 32.6 ms, sys: 1.43 ms, total: 34 ms\n",
            "Wall time: 39.1 ms\n"
          ]
        }
      ]
    },
    {
      "cell_type": "markdown",
      "metadata": {
        "id": "L61SWfGztPUz"
      },
      "source": [
        "### DecisionTreeClassifier\n",
        "\n",
        "https://scikit-learn.org/stable/modules/generated/sklearn.tree.DecisionTreeClassifier.html"
      ]
    },
    {
      "cell_type": "code",
      "metadata": {
        "colab": {
          "base_uri": "https://localhost:8080/"
        },
        "id": "V6IlKW1ZKFrq",
        "outputId": "c17cf87b-df9c-4025-ab35-cbb14fcd80b6"
      },
      "source": [
        "%%time\n",
        "model = DecisionTreeClassifier() # change hyperparameters as desired\n",
        "score = cross_val_score(model, X_train, y_train).mean() # mean cross-validation accuracy\n",
        "print(f'Mean cross-validation accuracy = {score:0.4f}')"
      ],
      "execution_count": 6,
      "outputs": [
        {
          "output_type": "stream",
          "name": "stdout",
          "text": [
            "Mean cross-validation accuracy = 0.8434\n",
            "CPU times: user 449 ms, sys: 0 ns, total: 449 ms\n",
            "Wall time: 452 ms\n"
          ]
        }
      ]
    },
    {
      "cell_type": "markdown",
      "metadata": {
        "id": "dw2J3q89Kq8u"
      },
      "source": [
        "### RandomForestClassifier\n",
        "\n",
        "https://scikit-learn.org/stable/modules/generated/sklearn.ensemble.RandomForestClassifier.html"
      ]
    },
    {
      "cell_type": "code",
      "metadata": {
        "colab": {
          "base_uri": "https://localhost:8080/"
        },
        "id": "Bg1tRS0KK4zl",
        "outputId": "8f1701e1-7169-444a-9599-2552901bda83"
      },
      "source": [
        "%%time\n",
        "model = RandomForestClassifier() # change hyperparameters as desired\n",
        "score = cross_val_score(model, X_train, y_train).mean() # mean cross-validation accuracy\n",
        "print(f'Mean cross-validation accuracy = {score:0.4f}')"
      ],
      "execution_count": 7,
      "outputs": [
        {
          "output_type": "stream",
          "name": "stdout",
          "text": [
            "Mean cross-validation accuracy = 0.9401\n",
            "CPU times: user 9.22 s, sys: 7.78 ms, total: 9.23 s\n",
            "Wall time: 10.5 s\n"
          ]
        }
      ]
    },
    {
      "cell_type": "markdown",
      "metadata": {
        "id": "d86dfu7ducAE"
      },
      "source": [
        "### ExtraTreesClassifier\n",
        "\n",
        "https://scikit-learn.org/stable/modules/generated/sklearn.ensemble.ExtraTreesClassifier.html"
      ]
    },
    {
      "cell_type": "code",
      "metadata": {
        "colab": {
          "base_uri": "https://localhost:8080/"
        },
        "id": "emyzWlJyKUSx",
        "outputId": "0e8f0d5f-fb84-4eff-932b-68d47991e4a8"
      },
      "source": [
        "%%time\n",
        "model = ExtraTreesClassifier() # change hyperparameters as desired\n",
        "score = cross_val_score(model, X_train, y_train).mean() # mean cross-validation accuracy\n",
        "print(f'Mean cross-validation accuracy = {score:0.4f}')"
      ],
      "execution_count": 8,
      "outputs": [
        {
          "output_type": "stream",
          "name": "stdout",
          "text": [
            "Mean cross-validation accuracy = 0.9526\n",
            "CPU times: user 2.43 s, sys: 38.2 ms, total: 2.47 s\n",
            "Wall time: 2.48 s\n"
          ]
        }
      ]
    },
    {
      "cell_type": "markdown",
      "metadata": {
        "id": "LRG62pOxwrQT"
      },
      "source": [
        "### KNeighborsClassifier\n",
        "\n",
        "https://scikit-learn.org/stable/modules/generated/sklearn.neighbors.KNeighborsClassifier.html"
      ]
    },
    {
      "cell_type": "code",
      "metadata": {
        "colab": {
          "base_uri": "https://localhost:8080/"
        },
        "id": "bXltDGqnLHmH",
        "outputId": "910397e3-d43e-4bad-ae09-7f1758471684"
      },
      "source": [
        "%%time\n",
        "model = KNeighborsClassifier() # change hyperparameters as desired\n",
        "score = cross_val_score(model, X_train, y_train).mean() # mean cross-validation accuracy\n",
        "print(f'Mean cross-validation accuracy = {score:0.4f}')"
      ],
      "execution_count": 9,
      "outputs": [
        {
          "output_type": "stream",
          "name": "stdout",
          "text": [
            "Mean cross-validation accuracy = 0.9637\n",
            "CPU times: user 989 ms, sys: 1.73 ms, total: 991 ms\n",
            "Wall time: 1 s\n"
          ]
        }
      ]
    },
    {
      "cell_type": "markdown",
      "metadata": {
        "id": "UlOltPrLLrug"
      },
      "source": [
        "### LogisticRegression\n",
        "\n",
        "https://scikit-learn.org/stable/modules/generated/sklearn.linear_model.LogisticRegression.html"
      ]
    },
    {
      "cell_type": "code",
      "metadata": {
        "colab": {
          "base_uri": "https://localhost:8080/"
        },
        "id": "bCHYnbyHL3SH",
        "outputId": "9108cfeb-2bd5-444d-c52e-d9adf2159dcc"
      },
      "source": [
        "%%time\n",
        "model = LogisticRegression() # change hyperparameters as desired\n",
        "score = cross_val_score(model, X_train, y_train).mean() # mean cross-validation accuracy\n",
        "print(f'Mean cross-validation accuracy = {score:0.4f}')"
      ],
      "execution_count": 10,
      "outputs": [
        {
          "output_type": "stream",
          "name": "stdout",
          "text": [
            "Mean cross-validation accuracy = 0.8816\n",
            "CPU times: user 217 ms, sys: 1.85 ms, total: 219 ms\n",
            "Wall time: 236 ms\n"
          ]
        }
      ]
    },
    {
      "cell_type": "markdown",
      "metadata": {
        "id": "A-iTOgGMMPQN"
      },
      "source": [
        "### SVC\n",
        "\n",
        "https://scikit-learn.org/stable/modules/generated/sklearn.svm.SVC.html"
      ]
    },
    {
      "cell_type": "code",
      "metadata": {
        "colab": {
          "base_uri": "https://localhost:8080/"
        },
        "id": "dABpGY4CMZEx",
        "outputId": "51c84253-e48b-42dd-8789-10d4f18afd62"
      },
      "source": [
        "%%time\n",
        "model = SVC() # change hyperparameters as desired\n",
        "score = cross_val_score(model, X_train, y_train).mean() # mean cross-validation accuracy\n",
        "print(f'Mean cross-validation accuracy = {score:0.4f}')"
      ],
      "execution_count": 11,
      "outputs": [
        {
          "output_type": "stream",
          "name": "stdout",
          "text": [
            "Mean cross-validation accuracy = 0.9669\n",
            "CPU times: user 2.83 s, sys: 7.86 ms, total: 2.84 s\n",
            "Wall time: 3.64 s\n"
          ]
        }
      ]
    },
    {
      "cell_type": "markdown",
      "metadata": {
        "id": "HRyD_Sx_5UQa"
      },
      "source": [
        "### MLPClassifier\n",
        "https://scikit-learn.org/stable/modules/generated/sklearn.neural_network.MLPClassifier.html"
      ]
    },
    {
      "cell_type": "code",
      "metadata": {
        "colab": {
          "base_uri": "https://localhost:8080/"
        },
        "id": "IdJ-K_USNDxe",
        "outputId": "89aceb6f-4f22-4381-b5d9-eeeaf9e02bb8"
      },
      "source": [
        "%%time\n",
        "model = MLPClassifier(max_iter=1000) # change hyperparameters as desired\n",
        "score = cross_val_score(model, X_train, y_train, cv=2).mean() # mean cross-validation accuracy\n",
        "print(f'Mean cross-validation accuracy = {score:0.4f}')"
      ],
      "execution_count": null,
      "outputs": [
        {
          "output_type": "stream",
          "name": "stdout",
          "text": [
            "Mean cross-validation accuracy = 0.9526\n",
            "CPU times: user 33.1 s, sys: 150 ms, total: 33.2 s\n",
            "Wall time: 33.7 s\n"
          ]
        }
      ]
    },
    {
      "cell_type": "code",
      "source": [
        "%%time\n",
        "model = MLPClassifier(hidden_layer_sizes=(1000, 100), max_iter=1000, verbose=True)\n",
        "for k,v in model.get_params().items():\n",
        "    print(f'{k}: {v}')\n",
        "model.fit(X_train, y_train)\n",
        "predicted = model.predict(X_test) # predicted classes for test examples\n",
        "acc = accuracy_score(y_test, predicted) # accuracy on test samples\n",
        "print(f'Accuracy on test samples = {acc:0.4f}') # show test accuracy\n",
        "print(\"Classification report on test samples:\") # for precision, recall, F1-score\n",
        "print(classification_report(y_test, predicted, digits=4)) # rounded to 4 decimal places"
      ],
      "metadata": {
        "colab": {
          "base_uri": "https://localhost:8080/"
        },
        "id": "Ublws_M1YEgh",
        "outputId": "cea3bdce-006b-42ee-d064-bf6db05b90c7"
      },
      "execution_count": null,
      "outputs": [
        {
          "output_type": "stream",
          "name": "stdout",
          "text": [
            "activation: relu\n",
            "alpha: 0.0001\n",
            "batch_size: auto\n",
            "beta_1: 0.9\n",
            "beta_2: 0.999\n",
            "early_stopping: False\n",
            "epsilon: 1e-08\n",
            "hidden_layer_sizes: (1000, 100)\n",
            "learning_rate: constant\n",
            "learning_rate_init: 0.001\n",
            "max_fun: 15000\n",
            "max_iter: 1000\n",
            "momentum: 0.9\n",
            "n_iter_no_change: 10\n",
            "nesterovs_momentum: True\n",
            "power_t: 0.5\n",
            "random_state: None\n",
            "shuffle: True\n",
            "solver: adam\n",
            "tol: 0.0001\n",
            "validation_fraction: 0.1\n",
            "verbose: True\n",
            "warm_start: False\n",
            "Iteration 1, loss = 0.38826826\n",
            "Iteration 2, loss = 0.21484035\n",
            "Iteration 3, loss = 0.19083975\n",
            "Iteration 4, loss = 0.17389546\n",
            "Iteration 5, loss = 0.16344421\n",
            "Iteration 6, loss = 0.15706173\n",
            "Iteration 7, loss = 0.14969455\n",
            "Iteration 8, loss = 0.14109154\n",
            "Iteration 9, loss = 0.13940195\n",
            "Iteration 10, loss = 0.13217585\n",
            "Iteration 11, loss = 0.12697464\n",
            "Iteration 12, loss = 0.12047729\n",
            "Iteration 13, loss = 0.12414447\n",
            "Iteration 14, loss = 0.11863645\n",
            "Iteration 15, loss = 0.11089884\n",
            "Iteration 16, loss = 0.10620989\n",
            "Iteration 17, loss = 0.10527632\n",
            "Iteration 18, loss = 0.09884196\n",
            "Iteration 19, loss = 0.10075415\n",
            "Iteration 20, loss = 0.09504192\n",
            "Iteration 21, loss = 0.09282581\n",
            "Iteration 22, loss = 0.08747834\n",
            "Iteration 23, loss = 0.08628944\n",
            "Iteration 24, loss = 0.08496976\n",
            "Iteration 25, loss = 0.08087767\n",
            "Iteration 26, loss = 0.07545457\n",
            "Iteration 27, loss = 0.07312598\n",
            "Iteration 28, loss = 0.07571904\n",
            "Iteration 29, loss = 0.07230332\n",
            "Iteration 30, loss = 0.06634315\n",
            "Iteration 31, loss = 0.06232713\n",
            "Iteration 32, loss = 0.06189504\n",
            "Iteration 33, loss = 0.05926328\n",
            "Iteration 34, loss = 0.05641574\n",
            "Iteration 35, loss = 0.05392728\n",
            "Iteration 36, loss = 0.05094903\n",
            "Iteration 37, loss = 0.04828748\n",
            "Iteration 38, loss = 0.04740551\n",
            "Iteration 39, loss = 0.04612310\n",
            "Iteration 40, loss = 0.04128393\n",
            "Iteration 41, loss = 0.04288185\n",
            "Iteration 42, loss = 0.03652661\n",
            "Iteration 43, loss = 0.03680795\n",
            "Iteration 44, loss = 0.03183980\n",
            "Iteration 45, loss = 0.03263790\n",
            "Iteration 46, loss = 0.03564351\n",
            "Iteration 47, loss = 0.03544047\n",
            "Iteration 48, loss = 0.02990536\n",
            "Iteration 49, loss = 0.02921480\n",
            "Iteration 50, loss = 0.02656045\n",
            "Iteration 51, loss = 0.02410544\n",
            "Iteration 52, loss = 0.02364651\n",
            "Iteration 53, loss = 0.02298905\n",
            "Iteration 54, loss = 0.01892961\n",
            "Iteration 55, loss = 0.01825444\n",
            "Iteration 56, loss = 0.01700801\n",
            "Iteration 57, loss = 0.01832485\n",
            "Iteration 58, loss = 0.01871064\n",
            "Iteration 59, loss = 0.02064567\n",
            "Iteration 60, loss = 0.01747507\n",
            "Iteration 61, loss = 0.01407951\n",
            "Iteration 62, loss = 0.01983067\n",
            "Iteration 63, loss = 0.02038968\n",
            "Iteration 64, loss = 0.01967142\n",
            "Iteration 65, loss = 0.01857150\n",
            "Iteration 66, loss = 0.01857065\n",
            "Iteration 67, loss = 0.02233110\n",
            "Iteration 68, loss = 0.01959668\n",
            "Iteration 69, loss = 0.01181545\n",
            "Iteration 70, loss = 0.00876483\n",
            "Iteration 71, loss = 0.00688102\n",
            "Iteration 72, loss = 0.00784091\n",
            "Iteration 73, loss = 0.01006394\n",
            "Iteration 74, loss = 0.00964187\n",
            "Iteration 75, loss = 0.00732044\n",
            "Iteration 76, loss = 0.00673331\n",
            "Iteration 77, loss = 0.00698385\n",
            "Iteration 78, loss = 0.01428319\n",
            "Iteration 79, loss = 0.00987779\n",
            "Iteration 80, loss = 0.00727428\n",
            "Iteration 81, loss = 0.00604362\n",
            "Iteration 82, loss = 0.00650155\n",
            "Iteration 83, loss = 0.00663782\n",
            "Iteration 84, loss = 0.00824229\n",
            "Iteration 85, loss = 0.00951385\n",
            "Iteration 86, loss = 0.00800729\n",
            "Iteration 87, loss = 0.00679460\n",
            "Iteration 88, loss = 0.01362549\n",
            "Iteration 89, loss = 0.02644282\n",
            "Iteration 90, loss = 0.04047474\n",
            "Iteration 91, loss = 0.03710536\n",
            "Iteration 92, loss = 0.02850869\n",
            "Training loss did not improve more than tol=0.000100 for 10 consecutive epochs. Stopping.\n",
            "Accuracy on test samples = 0.9625\n",
            "Classification report on test samples:\n",
            "              precision    recall  f1-score   support\n",
            "\n",
            "         0.0     0.9607    0.9780    0.9693       500\n",
            "         1.0     0.9387    0.9538    0.9462       498\n",
            "         2.0     0.9776    0.9716    0.9746       493\n",
            "         3.0     0.9737    0.9470    0.9602       509\n",
            "\n",
            "    accuracy                         0.9625      2000\n",
            "   macro avg     0.9627    0.9626    0.9626      2000\n",
            "weighted avg     0.9627    0.9625    0.9625      2000\n",
            "\n",
            "CPU times: user 1min 13s, sys: 28.7 s, total: 1min 42s\n",
            "Wall time: 1min 2s\n"
          ]
        }
      ]
    },
    {
      "cell_type": "markdown",
      "metadata": {
        "id": "C2SCLsZcC2MA"
      },
      "source": [
        "## Select a good model\n",
        "Since both *Support Vector Classifier* and *K Nearest Neighbor Classifier* produced high cmean cross-validation accuracy with default hyper-parameter values, we shall search for good hyper-parameter values for these models using cross-validation and choose a model with a good set of hyper-parameter values."
      ]
    },
    {
      "cell_type": "markdown",
      "source": [
        "### SVC\n",
        "Search for a good value of the penalty *C*."
      ],
      "metadata": {
        "id": "6qhf0DPqoGTs"
      }
    },
    {
      "cell_type": "code",
      "metadata": {
        "colab": {
          "base_uri": "https://localhost:8080/"
        },
        "id": "ic1FrpZVNkCL",
        "outputId": "f7f58641-9644-4581-819e-b28977bd572e"
      },
      "source": [
        "%%time\n",
        "for penalty in [1, 10, 20]: # values to try\n",
        "    model = SVC(C=penalty)\n",
        "    score = cross_val_score(model, X_train, y_train).mean() # mean cross-validation accuracy\n",
        "    print(f'Mean cross-validation accuracy = {score:0.4f} for SVC with C = {penalty:0.1f}')"
      ],
      "execution_count": 12,
      "outputs": [
        {
          "output_type": "stream",
          "name": "stdout",
          "text": [
            "Mean cross-validation accuracy = 0.9669 for SVC with C = 1.0\n",
            "Mean cross-validation accuracy = 0.9702 for SVC with C = 10.0\n",
            "Mean cross-validation accuracy = 0.9680 for SVC with C = 20.0\n",
            "CPU times: user 6.98 s, sys: 12.9 ms, total: 7 s\n",
            "Wall time: 8.24 s\n"
          ]
        }
      ]
    },
    {
      "cell_type": "markdown",
      "source": [
        "### KNeighborsClassifier\n",
        "Search for a good value of the number of nearest neighbors"
      ],
      "metadata": {
        "id": "2-mmRMdNo4sM"
      }
    },
    {
      "cell_type": "code",
      "metadata": {
        "colab": {
          "base_uri": "https://localhost:8080/"
        },
        "outputId": "d30da1bf-c899-4594-eed2-7fc34dc87334",
        "id": "pOta-StUpVJz"
      },
      "source": [
        "for k in range(1,10): # values to try\n",
        "    model = KNeighborsClassifier(n_neighbors=k)\n",
        "    score = cross_val_score(model, X_train, y_train).mean() # mean cross-validation accuracy\n",
        "    print(f'Mean cross-validation accuracy = {score:0.4f} for KNeighborsClassifier with {k} neighbors')"
      ],
      "execution_count": 13,
      "outputs": [
        {
          "output_type": "stream",
          "name": "stdout",
          "text": [
            "Mean cross-validation accuracy = 0.9461 for KNeighborsClassifier with 1 neighbors\n",
            "Mean cross-validation accuracy = 0.9419 for KNeighborsClassifier with 2 neighbors\n",
            "Mean cross-validation accuracy = 0.9575 for KNeighborsClassifier with 3 neighbors\n",
            "Mean cross-validation accuracy = 0.9601 for KNeighborsClassifier with 4 neighbors\n",
            "Mean cross-validation accuracy = 0.9637 for KNeighborsClassifier with 5 neighbors\n",
            "Mean cross-validation accuracy = 0.9639 for KNeighborsClassifier with 6 neighbors\n",
            "Mean cross-validation accuracy = 0.9649 for KNeighborsClassifier with 7 neighbors\n",
            "Mean cross-validation accuracy = 0.9636 for KNeighborsClassifier with 8 neighbors\n",
            "Mean cross-validation accuracy = 0.9629 for KNeighborsClassifier with 9 neighbors\n"
          ]
        }
      ]
    },
    {
      "cell_type": "markdown",
      "source": [
        "### Decide on a model\n",
        "We shall choose *SVC* with *C*=10."
      ],
      "metadata": {
        "id": "UrsweJwkqEYZ"
      }
    },
    {
      "cell_type": "code",
      "metadata": {
        "colab": {
          "base_uri": "https://localhost:8080/"
        },
        "id": "LcZi6spm4GGN",
        "outputId": "bde3abc0-088d-408d-983f-b71bf149b9bf"
      },
      "source": [
        "chosen_model = SVC(C=10)\n",
        "print('Selected model: ', chosen_model)\n",
        "print('Parameters')\n",
        "for param, val in chosen_model.get_params().items():\n",
        "    print(f'\\t{param}: {val}')"
      ],
      "execution_count": 14,
      "outputs": [
        {
          "output_type": "stream",
          "name": "stdout",
          "text": [
            "Selected model:  SVC(C=10)\n",
            "Parameters\n",
            "\tC: 10\n",
            "\tbreak_ties: False\n",
            "\tcache_size: 200\n",
            "\tclass_weight: None\n",
            "\tcoef0: 0.0\n",
            "\tdecision_function_shape: ovr\n",
            "\tdegree: 3\n",
            "\tgamma: scale\n",
            "\tkernel: rbf\n",
            "\tmax_iter: -1\n",
            "\tprobability: False\n",
            "\trandom_state: None\n",
            "\tshrinking: True\n",
            "\ttol: 0.001\n",
            "\tverbose: False\n"
          ]
        }
      ]
    },
    {
      "cell_type": "markdown",
      "metadata": {
        "id": "mObRT95gXrzZ"
      },
      "source": [
        "## Train and test selected model"
      ]
    },
    {
      "cell_type": "code",
      "metadata": {
        "colab": {
          "base_uri": "https://localhost:8080/"
        },
        "id": "RZ_fqywZXw83",
        "outputId": "10a06c6a-865a-42f6-e5d6-d1496e12c074"
      },
      "source": [
        "%%time\n",
        "chosen_model = SVC(C=10)\n",
        "chosen_model.fit(X_train, y_train) # train selected model on ALL training examples\n",
        "predicted = chosen_model.predict(X_test) # predicted classes for test examples\n",
        "acc = accuracy_score(y_test, predicted) # accuracy on test samples\n",
        "print(f'Accuracy on test samples = {acc:0.4f}') # show test accuracy\n",
        "print(\"Classification report on test samples:\") # for precision, recall, F1-score\n",
        "print(classification_report(y_test, predicted, digits=4)) # rounded to 4 decimal places"
      ],
      "execution_count": 15,
      "outputs": [
        {
          "output_type": "stream",
          "name": "stdout",
          "text": [
            "Accuracy on test samples = 0.9745\n",
            "Classification report on test samples:\n",
            "              precision    recall  f1-score   support\n",
            "\n",
            "         0.0     0.9702    0.9760    0.9731       500\n",
            "         1.0     0.9601    0.9659    0.9630       498\n",
            "         2.0     0.9838    0.9838    0.9838       493\n",
            "         3.0     0.9841    0.9725    0.9783       509\n",
            "\n",
            "    accuracy                         0.9745      2000\n",
            "   macro avg     0.9745    0.9745    0.9745      2000\n",
            "weighted avg     0.9746    0.9745    0.9745      2000\n",
            "\n",
            "CPU times: user 545 ms, sys: 975 µs, total: 546 ms\n",
            "Wall time: 550 ms\n"
          ]
        }
      ]
    },
    {
      "cell_type": "code",
      "metadata": {
        "colab": {
          "base_uri": "https://localhost:8080/",
          "height": 175
        },
        "id": "PJokDrtOE4oG",
        "outputId": "c6a36fc7-f610-44d0-82ac-af65ceb03888"
      },
      "source": [
        "cm = pd.DataFrame(confusion_matrix(y_test, predicted)) # confusion matrix\n",
        "cm.to_csv('cm.hw2.q2.csv')\n",
        "cm"
      ],
      "execution_count": 16,
      "outputs": [
        {
          "output_type": "execute_result",
          "data": {
            "text/plain": [
              "     0    1    2    3\n",
              "0  488    6    1    5\n",
              "1    8  481    7    2\n",
              "2    3    4  485    1\n",
              "3    4   10    0  495"
            ],
            "text/html": [
              "\n",
              "  <div id=\"df-dbc2ebe9-462d-4c26-9608-1069bdcbf7c7\" class=\"colab-df-container\">\n",
              "    <div>\n",
              "<style scoped>\n",
              "    .dataframe tbody tr th:only-of-type {\n",
              "        vertical-align: middle;\n",
              "    }\n",
              "\n",
              "    .dataframe tbody tr th {\n",
              "        vertical-align: top;\n",
              "    }\n",
              "\n",
              "    .dataframe thead th {\n",
              "        text-align: right;\n",
              "    }\n",
              "</style>\n",
              "<table border=\"1\" class=\"dataframe\">\n",
              "  <thead>\n",
              "    <tr style=\"text-align: right;\">\n",
              "      <th></th>\n",
              "      <th>0</th>\n",
              "      <th>1</th>\n",
              "      <th>2</th>\n",
              "      <th>3</th>\n",
              "    </tr>\n",
              "  </thead>\n",
              "  <tbody>\n",
              "    <tr>\n",
              "      <th>0</th>\n",
              "      <td>488</td>\n",
              "      <td>6</td>\n",
              "      <td>1</td>\n",
              "      <td>5</td>\n",
              "    </tr>\n",
              "    <tr>\n",
              "      <th>1</th>\n",
              "      <td>8</td>\n",
              "      <td>481</td>\n",
              "      <td>7</td>\n",
              "      <td>2</td>\n",
              "    </tr>\n",
              "    <tr>\n",
              "      <th>2</th>\n",
              "      <td>3</td>\n",
              "      <td>4</td>\n",
              "      <td>485</td>\n",
              "      <td>1</td>\n",
              "    </tr>\n",
              "    <tr>\n",
              "      <th>3</th>\n",
              "      <td>4</td>\n",
              "      <td>10</td>\n",
              "      <td>0</td>\n",
              "      <td>495</td>\n",
              "    </tr>\n",
              "  </tbody>\n",
              "</table>\n",
              "</div>\n",
              "    <div class=\"colab-df-buttons\">\n",
              "\n",
              "  <div class=\"colab-df-container\">\n",
              "    <button class=\"colab-df-convert\" onclick=\"convertToInteractive('df-dbc2ebe9-462d-4c26-9608-1069bdcbf7c7')\"\n",
              "            title=\"Convert this dataframe to an interactive table.\"\n",
              "            style=\"display:none;\">\n",
              "\n",
              "  <svg xmlns=\"http://www.w3.org/2000/svg\" height=\"24px\" viewBox=\"0 -960 960 960\">\n",
              "    <path d=\"M120-120v-720h720v720H120Zm60-500h600v-160H180v160Zm220 220h160v-160H400v160Zm0 220h160v-160H400v160ZM180-400h160v-160H180v160Zm440 0h160v-160H620v160ZM180-180h160v-160H180v160Zm440 0h160v-160H620v160Z\"/>\n",
              "  </svg>\n",
              "    </button>\n",
              "\n",
              "  <style>\n",
              "    .colab-df-container {\n",
              "      display:flex;\n",
              "      gap: 12px;\n",
              "    }\n",
              "\n",
              "    .colab-df-convert {\n",
              "      background-color: #E8F0FE;\n",
              "      border: none;\n",
              "      border-radius: 50%;\n",
              "      cursor: pointer;\n",
              "      display: none;\n",
              "      fill: #1967D2;\n",
              "      height: 32px;\n",
              "      padding: 0 0 0 0;\n",
              "      width: 32px;\n",
              "    }\n",
              "\n",
              "    .colab-df-convert:hover {\n",
              "      background-color: #E2EBFA;\n",
              "      box-shadow: 0px 1px 2px rgba(60, 64, 67, 0.3), 0px 1px 3px 1px rgba(60, 64, 67, 0.15);\n",
              "      fill: #174EA6;\n",
              "    }\n",
              "\n",
              "    .colab-df-buttons div {\n",
              "      margin-bottom: 4px;\n",
              "    }\n",
              "\n",
              "    [theme=dark] .colab-df-convert {\n",
              "      background-color: #3B4455;\n",
              "      fill: #D2E3FC;\n",
              "    }\n",
              "\n",
              "    [theme=dark] .colab-df-convert:hover {\n",
              "      background-color: #434B5C;\n",
              "      box-shadow: 0px 1px 3px 1px rgba(0, 0, 0, 0.15);\n",
              "      filter: drop-shadow(0px 1px 2px rgba(0, 0, 0, 0.3));\n",
              "      fill: #FFFFFF;\n",
              "    }\n",
              "  </style>\n",
              "\n",
              "    <script>\n",
              "      const buttonEl =\n",
              "        document.querySelector('#df-dbc2ebe9-462d-4c26-9608-1069bdcbf7c7 button.colab-df-convert');\n",
              "      buttonEl.style.display =\n",
              "        google.colab.kernel.accessAllowed ? 'block' : 'none';\n",
              "\n",
              "      async function convertToInteractive(key) {\n",
              "        const element = document.querySelector('#df-dbc2ebe9-462d-4c26-9608-1069bdcbf7c7');\n",
              "        const dataTable =\n",
              "          await google.colab.kernel.invokeFunction('convertToInteractive',\n",
              "                                                    [key], {});\n",
              "        if (!dataTable) return;\n",
              "\n",
              "        const docLinkHtml = 'Like what you see? Visit the ' +\n",
              "          '<a target=\"_blank\" href=https://colab.research.google.com/notebooks/data_table.ipynb>data table notebook</a>'\n",
              "          + ' to learn more about interactive tables.';\n",
              "        element.innerHTML = '';\n",
              "        dataTable['output_type'] = 'display_data';\n",
              "        await google.colab.output.renderOutput(dataTable, element);\n",
              "        const docLink = document.createElement('div');\n",
              "        docLink.innerHTML = docLinkHtml;\n",
              "        element.appendChild(docLink);\n",
              "      }\n",
              "    </script>\n",
              "  </div>\n",
              "\n",
              "\n",
              "<div id=\"df-4def884f-0c6f-406f-9b4e-6948466b6acc\">\n",
              "  <button class=\"colab-df-quickchart\" onclick=\"quickchart('df-4def884f-0c6f-406f-9b4e-6948466b6acc')\"\n",
              "            title=\"Suggest charts.\"\n",
              "            style=\"display:none;\">\n",
              "\n",
              "<svg xmlns=\"http://www.w3.org/2000/svg\" height=\"24px\"viewBox=\"0 0 24 24\"\n",
              "     width=\"24px\">\n",
              "    <g>\n",
              "        <path d=\"M19 3H5c-1.1 0-2 .9-2 2v14c0 1.1.9 2 2 2h14c1.1 0 2-.9 2-2V5c0-1.1-.9-2-2-2zM9 17H7v-7h2v7zm4 0h-2V7h2v10zm4 0h-2v-4h2v4z\"/>\n",
              "    </g>\n",
              "</svg>\n",
              "  </button>\n",
              "\n",
              "<style>\n",
              "  .colab-df-quickchart {\n",
              "      --bg-color: #E8F0FE;\n",
              "      --fill-color: #1967D2;\n",
              "      --hover-bg-color: #E2EBFA;\n",
              "      --hover-fill-color: #174EA6;\n",
              "      --disabled-fill-color: #AAA;\n",
              "      --disabled-bg-color: #DDD;\n",
              "  }\n",
              "\n",
              "  [theme=dark] .colab-df-quickchart {\n",
              "      --bg-color: #3B4455;\n",
              "      --fill-color: #D2E3FC;\n",
              "      --hover-bg-color: #434B5C;\n",
              "      --hover-fill-color: #FFFFFF;\n",
              "      --disabled-bg-color: #3B4455;\n",
              "      --disabled-fill-color: #666;\n",
              "  }\n",
              "\n",
              "  .colab-df-quickchart {\n",
              "    background-color: var(--bg-color);\n",
              "    border: none;\n",
              "    border-radius: 50%;\n",
              "    cursor: pointer;\n",
              "    display: none;\n",
              "    fill: var(--fill-color);\n",
              "    height: 32px;\n",
              "    padding: 0;\n",
              "    width: 32px;\n",
              "  }\n",
              "\n",
              "  .colab-df-quickchart:hover {\n",
              "    background-color: var(--hover-bg-color);\n",
              "    box-shadow: 0 1px 2px rgba(60, 64, 67, 0.3), 0 1px 3px 1px rgba(60, 64, 67, 0.15);\n",
              "    fill: var(--button-hover-fill-color);\n",
              "  }\n",
              "\n",
              "  .colab-df-quickchart-complete:disabled,\n",
              "  .colab-df-quickchart-complete:disabled:hover {\n",
              "    background-color: var(--disabled-bg-color);\n",
              "    fill: var(--disabled-fill-color);\n",
              "    box-shadow: none;\n",
              "  }\n",
              "\n",
              "  .colab-df-spinner {\n",
              "    border: 2px solid var(--fill-color);\n",
              "    border-color: transparent;\n",
              "    border-bottom-color: var(--fill-color);\n",
              "    animation:\n",
              "      spin 1s steps(1) infinite;\n",
              "  }\n",
              "\n",
              "  @keyframes spin {\n",
              "    0% {\n",
              "      border-color: transparent;\n",
              "      border-bottom-color: var(--fill-color);\n",
              "      border-left-color: var(--fill-color);\n",
              "    }\n",
              "    20% {\n",
              "      border-color: transparent;\n",
              "      border-left-color: var(--fill-color);\n",
              "      border-top-color: var(--fill-color);\n",
              "    }\n",
              "    30% {\n",
              "      border-color: transparent;\n",
              "      border-left-color: var(--fill-color);\n",
              "      border-top-color: var(--fill-color);\n",
              "      border-right-color: var(--fill-color);\n",
              "    }\n",
              "    40% {\n",
              "      border-color: transparent;\n",
              "      border-right-color: var(--fill-color);\n",
              "      border-top-color: var(--fill-color);\n",
              "    }\n",
              "    60% {\n",
              "      border-color: transparent;\n",
              "      border-right-color: var(--fill-color);\n",
              "    }\n",
              "    80% {\n",
              "      border-color: transparent;\n",
              "      border-right-color: var(--fill-color);\n",
              "      border-bottom-color: var(--fill-color);\n",
              "    }\n",
              "    90% {\n",
              "      border-color: transparent;\n",
              "      border-bottom-color: var(--fill-color);\n",
              "    }\n",
              "  }\n",
              "</style>\n",
              "\n",
              "  <script>\n",
              "    async function quickchart(key) {\n",
              "      const quickchartButtonEl =\n",
              "        document.querySelector('#' + key + ' button');\n",
              "      quickchartButtonEl.disabled = true;  // To prevent multiple clicks.\n",
              "      quickchartButtonEl.classList.add('colab-df-spinner');\n",
              "      try {\n",
              "        const charts = await google.colab.kernel.invokeFunction(\n",
              "            'suggestCharts', [key], {});\n",
              "      } catch (error) {\n",
              "        console.error('Error during call to suggestCharts:', error);\n",
              "      }\n",
              "      quickchartButtonEl.classList.remove('colab-df-spinner');\n",
              "      quickchartButtonEl.classList.add('colab-df-quickchart-complete');\n",
              "    }\n",
              "    (() => {\n",
              "      let quickchartButtonEl =\n",
              "        document.querySelector('#df-4def884f-0c6f-406f-9b4e-6948466b6acc button');\n",
              "      quickchartButtonEl.style.display =\n",
              "        google.colab.kernel.accessAllowed ? 'block' : 'none';\n",
              "    })();\n",
              "  </script>\n",
              "</div>\n",
              "    </div>\n",
              "  </div>\n"
            ]
          },
          "metadata": {},
          "execution_count": 16
        }
      ]
    },
    {
      "cell_type": "markdown",
      "metadata": {
        "id": "HaPNAkBiGCkA"
      },
      "source": [
        "## Predict class for unlabeled samples\n",
        "We shall use our trained model to predict the output class for the unlabeled samples."
      ]
    },
    {
      "cell_type": "code",
      "metadata": {
        "colab": {
          "base_uri": "https://localhost:8080/",
          "height": 990
        },
        "id": "yEqI9Ic6GV_v",
        "outputId": "ff317242-2fa6-4fb9-ca90-81a024e08210"
      },
      "source": [
        "predicted_new = chosen_model.predict(X_new) # predicted classes for unlabeled samples\n",
        "hw2q2_prediction = pd.DataFrame() # dataframe with predicted classes\n",
        "hw2q2_prediction['ID'] = new.ID # identifiers for unlabeled samples\n",
        "hw2q2_prediction['y'] = predicted_new # # predicted classes for unlabeled samples\n",
        "hw2q2_prediction.to_csv('hw2.q2.prediction.csv', index=False) # save as CSV file\n",
        "hw2q2_prediction # display results"
      ],
      "execution_count": 17,
      "outputs": [
        {
          "output_type": "execute_result",
          "data": {
            "text/plain": [
              "        ID    y\n",
              "0   ID_001  0.0\n",
              "1   ID_002  0.0\n",
              "2   ID_003  0.0\n",
              "3   ID_004  0.0\n",
              "4   ID_005  0.0\n",
              "5   ID_006  0.0\n",
              "6   ID_007  0.0\n",
              "7   ID_008  0.0\n",
              "8   ID_009  0.0\n",
              "9   ID_010  0.0\n",
              "10  ID_011  1.0\n",
              "11  ID_012  1.0\n",
              "12  ID_013  1.0\n",
              "13  ID_014  3.0\n",
              "14  ID_015  1.0\n",
              "15  ID_016  1.0\n",
              "16  ID_017  2.0\n",
              "17  ID_018  2.0\n",
              "18  ID_019  2.0\n",
              "19  ID_020  2.0\n",
              "20  ID_021  2.0\n",
              "21  ID_022  2.0\n",
              "22  ID_023  2.0\n",
              "23  ID_024  3.0\n",
              "24  ID_025  3.0\n",
              "25  ID_026  3.0\n",
              "26  ID_027  3.0\n",
              "27  ID_028  3.0\n",
              "28  ID_029  3.0\n",
              "29  ID_030  3.0"
            ],
            "text/html": [
              "\n",
              "  <div id=\"df-318ec60c-4cfa-4f5f-a21c-85cc928f9e2d\" class=\"colab-df-container\">\n",
              "    <div>\n",
              "<style scoped>\n",
              "    .dataframe tbody tr th:only-of-type {\n",
              "        vertical-align: middle;\n",
              "    }\n",
              "\n",
              "    .dataframe tbody tr th {\n",
              "        vertical-align: top;\n",
              "    }\n",
              "\n",
              "    .dataframe thead th {\n",
              "        text-align: right;\n",
              "    }\n",
              "</style>\n",
              "<table border=\"1\" class=\"dataframe\">\n",
              "  <thead>\n",
              "    <tr style=\"text-align: right;\">\n",
              "      <th></th>\n",
              "      <th>ID</th>\n",
              "      <th>y</th>\n",
              "    </tr>\n",
              "  </thead>\n",
              "  <tbody>\n",
              "    <tr>\n",
              "      <th>0</th>\n",
              "      <td>ID_001</td>\n",
              "      <td>0.0</td>\n",
              "    </tr>\n",
              "    <tr>\n",
              "      <th>1</th>\n",
              "      <td>ID_002</td>\n",
              "      <td>0.0</td>\n",
              "    </tr>\n",
              "    <tr>\n",
              "      <th>2</th>\n",
              "      <td>ID_003</td>\n",
              "      <td>0.0</td>\n",
              "    </tr>\n",
              "    <tr>\n",
              "      <th>3</th>\n",
              "      <td>ID_004</td>\n",
              "      <td>0.0</td>\n",
              "    </tr>\n",
              "    <tr>\n",
              "      <th>4</th>\n",
              "      <td>ID_005</td>\n",
              "      <td>0.0</td>\n",
              "    </tr>\n",
              "    <tr>\n",
              "      <th>5</th>\n",
              "      <td>ID_006</td>\n",
              "      <td>0.0</td>\n",
              "    </tr>\n",
              "    <tr>\n",
              "      <th>6</th>\n",
              "      <td>ID_007</td>\n",
              "      <td>0.0</td>\n",
              "    </tr>\n",
              "    <tr>\n",
              "      <th>7</th>\n",
              "      <td>ID_008</td>\n",
              "      <td>0.0</td>\n",
              "    </tr>\n",
              "    <tr>\n",
              "      <th>8</th>\n",
              "      <td>ID_009</td>\n",
              "      <td>0.0</td>\n",
              "    </tr>\n",
              "    <tr>\n",
              "      <th>9</th>\n",
              "      <td>ID_010</td>\n",
              "      <td>0.0</td>\n",
              "    </tr>\n",
              "    <tr>\n",
              "      <th>10</th>\n",
              "      <td>ID_011</td>\n",
              "      <td>1.0</td>\n",
              "    </tr>\n",
              "    <tr>\n",
              "      <th>11</th>\n",
              "      <td>ID_012</td>\n",
              "      <td>1.0</td>\n",
              "    </tr>\n",
              "    <tr>\n",
              "      <th>12</th>\n",
              "      <td>ID_013</td>\n",
              "      <td>1.0</td>\n",
              "    </tr>\n",
              "    <tr>\n",
              "      <th>13</th>\n",
              "      <td>ID_014</td>\n",
              "      <td>3.0</td>\n",
              "    </tr>\n",
              "    <tr>\n",
              "      <th>14</th>\n",
              "      <td>ID_015</td>\n",
              "      <td>1.0</td>\n",
              "    </tr>\n",
              "    <tr>\n",
              "      <th>15</th>\n",
              "      <td>ID_016</td>\n",
              "      <td>1.0</td>\n",
              "    </tr>\n",
              "    <tr>\n",
              "      <th>16</th>\n",
              "      <td>ID_017</td>\n",
              "      <td>2.0</td>\n",
              "    </tr>\n",
              "    <tr>\n",
              "      <th>17</th>\n",
              "      <td>ID_018</td>\n",
              "      <td>2.0</td>\n",
              "    </tr>\n",
              "    <tr>\n",
              "      <th>18</th>\n",
              "      <td>ID_019</td>\n",
              "      <td>2.0</td>\n",
              "    </tr>\n",
              "    <tr>\n",
              "      <th>19</th>\n",
              "      <td>ID_020</td>\n",
              "      <td>2.0</td>\n",
              "    </tr>\n",
              "    <tr>\n",
              "      <th>20</th>\n",
              "      <td>ID_021</td>\n",
              "      <td>2.0</td>\n",
              "    </tr>\n",
              "    <tr>\n",
              "      <th>21</th>\n",
              "      <td>ID_022</td>\n",
              "      <td>2.0</td>\n",
              "    </tr>\n",
              "    <tr>\n",
              "      <th>22</th>\n",
              "      <td>ID_023</td>\n",
              "      <td>2.0</td>\n",
              "    </tr>\n",
              "    <tr>\n",
              "      <th>23</th>\n",
              "      <td>ID_024</td>\n",
              "      <td>3.0</td>\n",
              "    </tr>\n",
              "    <tr>\n",
              "      <th>24</th>\n",
              "      <td>ID_025</td>\n",
              "      <td>3.0</td>\n",
              "    </tr>\n",
              "    <tr>\n",
              "      <th>25</th>\n",
              "      <td>ID_026</td>\n",
              "      <td>3.0</td>\n",
              "    </tr>\n",
              "    <tr>\n",
              "      <th>26</th>\n",
              "      <td>ID_027</td>\n",
              "      <td>3.0</td>\n",
              "    </tr>\n",
              "    <tr>\n",
              "      <th>27</th>\n",
              "      <td>ID_028</td>\n",
              "      <td>3.0</td>\n",
              "    </tr>\n",
              "    <tr>\n",
              "      <th>28</th>\n",
              "      <td>ID_029</td>\n",
              "      <td>3.0</td>\n",
              "    </tr>\n",
              "    <tr>\n",
              "      <th>29</th>\n",
              "      <td>ID_030</td>\n",
              "      <td>3.0</td>\n",
              "    </tr>\n",
              "  </tbody>\n",
              "</table>\n",
              "</div>\n",
              "    <div class=\"colab-df-buttons\">\n",
              "\n",
              "  <div class=\"colab-df-container\">\n",
              "    <button class=\"colab-df-convert\" onclick=\"convertToInteractive('df-318ec60c-4cfa-4f5f-a21c-85cc928f9e2d')\"\n",
              "            title=\"Convert this dataframe to an interactive table.\"\n",
              "            style=\"display:none;\">\n",
              "\n",
              "  <svg xmlns=\"http://www.w3.org/2000/svg\" height=\"24px\" viewBox=\"0 -960 960 960\">\n",
              "    <path d=\"M120-120v-720h720v720H120Zm60-500h600v-160H180v160Zm220 220h160v-160H400v160Zm0 220h160v-160H400v160ZM180-400h160v-160H180v160Zm440 0h160v-160H620v160ZM180-180h160v-160H180v160Zm440 0h160v-160H620v160Z\"/>\n",
              "  </svg>\n",
              "    </button>\n",
              "\n",
              "  <style>\n",
              "    .colab-df-container {\n",
              "      display:flex;\n",
              "      gap: 12px;\n",
              "    }\n",
              "\n",
              "    .colab-df-convert {\n",
              "      background-color: #E8F0FE;\n",
              "      border: none;\n",
              "      border-radius: 50%;\n",
              "      cursor: pointer;\n",
              "      display: none;\n",
              "      fill: #1967D2;\n",
              "      height: 32px;\n",
              "      padding: 0 0 0 0;\n",
              "      width: 32px;\n",
              "    }\n",
              "\n",
              "    .colab-df-convert:hover {\n",
              "      background-color: #E2EBFA;\n",
              "      box-shadow: 0px 1px 2px rgba(60, 64, 67, 0.3), 0px 1px 3px 1px rgba(60, 64, 67, 0.15);\n",
              "      fill: #174EA6;\n",
              "    }\n",
              "\n",
              "    .colab-df-buttons div {\n",
              "      margin-bottom: 4px;\n",
              "    }\n",
              "\n",
              "    [theme=dark] .colab-df-convert {\n",
              "      background-color: #3B4455;\n",
              "      fill: #D2E3FC;\n",
              "    }\n",
              "\n",
              "    [theme=dark] .colab-df-convert:hover {\n",
              "      background-color: #434B5C;\n",
              "      box-shadow: 0px 1px 3px 1px rgba(0, 0, 0, 0.15);\n",
              "      filter: drop-shadow(0px 1px 2px rgba(0, 0, 0, 0.3));\n",
              "      fill: #FFFFFF;\n",
              "    }\n",
              "  </style>\n",
              "\n",
              "    <script>\n",
              "      const buttonEl =\n",
              "        document.querySelector('#df-318ec60c-4cfa-4f5f-a21c-85cc928f9e2d button.colab-df-convert');\n",
              "      buttonEl.style.display =\n",
              "        google.colab.kernel.accessAllowed ? 'block' : 'none';\n",
              "\n",
              "      async function convertToInteractive(key) {\n",
              "        const element = document.querySelector('#df-318ec60c-4cfa-4f5f-a21c-85cc928f9e2d');\n",
              "        const dataTable =\n",
              "          await google.colab.kernel.invokeFunction('convertToInteractive',\n",
              "                                                    [key], {});\n",
              "        if (!dataTable) return;\n",
              "\n",
              "        const docLinkHtml = 'Like what you see? Visit the ' +\n",
              "          '<a target=\"_blank\" href=https://colab.research.google.com/notebooks/data_table.ipynb>data table notebook</a>'\n",
              "          + ' to learn more about interactive tables.';\n",
              "        element.innerHTML = '';\n",
              "        dataTable['output_type'] = 'display_data';\n",
              "        await google.colab.output.renderOutput(dataTable, element);\n",
              "        const docLink = document.createElement('div');\n",
              "        docLink.innerHTML = docLinkHtml;\n",
              "        element.appendChild(docLink);\n",
              "      }\n",
              "    </script>\n",
              "  </div>\n",
              "\n",
              "\n",
              "<div id=\"df-65f72ddb-0fc4-4a1c-b349-0f583a660951\">\n",
              "  <button class=\"colab-df-quickchart\" onclick=\"quickchart('df-65f72ddb-0fc4-4a1c-b349-0f583a660951')\"\n",
              "            title=\"Suggest charts.\"\n",
              "            style=\"display:none;\">\n",
              "\n",
              "<svg xmlns=\"http://www.w3.org/2000/svg\" height=\"24px\"viewBox=\"0 0 24 24\"\n",
              "     width=\"24px\">\n",
              "    <g>\n",
              "        <path d=\"M19 3H5c-1.1 0-2 .9-2 2v14c0 1.1.9 2 2 2h14c1.1 0 2-.9 2-2V5c0-1.1-.9-2-2-2zM9 17H7v-7h2v7zm4 0h-2V7h2v10zm4 0h-2v-4h2v4z\"/>\n",
              "    </g>\n",
              "</svg>\n",
              "  </button>\n",
              "\n",
              "<style>\n",
              "  .colab-df-quickchart {\n",
              "      --bg-color: #E8F0FE;\n",
              "      --fill-color: #1967D2;\n",
              "      --hover-bg-color: #E2EBFA;\n",
              "      --hover-fill-color: #174EA6;\n",
              "      --disabled-fill-color: #AAA;\n",
              "      --disabled-bg-color: #DDD;\n",
              "  }\n",
              "\n",
              "  [theme=dark] .colab-df-quickchart {\n",
              "      --bg-color: #3B4455;\n",
              "      --fill-color: #D2E3FC;\n",
              "      --hover-bg-color: #434B5C;\n",
              "      --hover-fill-color: #FFFFFF;\n",
              "      --disabled-bg-color: #3B4455;\n",
              "      --disabled-fill-color: #666;\n",
              "  }\n",
              "\n",
              "  .colab-df-quickchart {\n",
              "    background-color: var(--bg-color);\n",
              "    border: none;\n",
              "    border-radius: 50%;\n",
              "    cursor: pointer;\n",
              "    display: none;\n",
              "    fill: var(--fill-color);\n",
              "    height: 32px;\n",
              "    padding: 0;\n",
              "    width: 32px;\n",
              "  }\n",
              "\n",
              "  .colab-df-quickchart:hover {\n",
              "    background-color: var(--hover-bg-color);\n",
              "    box-shadow: 0 1px 2px rgba(60, 64, 67, 0.3), 0 1px 3px 1px rgba(60, 64, 67, 0.15);\n",
              "    fill: var(--button-hover-fill-color);\n",
              "  }\n",
              "\n",
              "  .colab-df-quickchart-complete:disabled,\n",
              "  .colab-df-quickchart-complete:disabled:hover {\n",
              "    background-color: var(--disabled-bg-color);\n",
              "    fill: var(--disabled-fill-color);\n",
              "    box-shadow: none;\n",
              "  }\n",
              "\n",
              "  .colab-df-spinner {\n",
              "    border: 2px solid var(--fill-color);\n",
              "    border-color: transparent;\n",
              "    border-bottom-color: var(--fill-color);\n",
              "    animation:\n",
              "      spin 1s steps(1) infinite;\n",
              "  }\n",
              "\n",
              "  @keyframes spin {\n",
              "    0% {\n",
              "      border-color: transparent;\n",
              "      border-bottom-color: var(--fill-color);\n",
              "      border-left-color: var(--fill-color);\n",
              "    }\n",
              "    20% {\n",
              "      border-color: transparent;\n",
              "      border-left-color: var(--fill-color);\n",
              "      border-top-color: var(--fill-color);\n",
              "    }\n",
              "    30% {\n",
              "      border-color: transparent;\n",
              "      border-left-color: var(--fill-color);\n",
              "      border-top-color: var(--fill-color);\n",
              "      border-right-color: var(--fill-color);\n",
              "    }\n",
              "    40% {\n",
              "      border-color: transparent;\n",
              "      border-right-color: var(--fill-color);\n",
              "      border-top-color: var(--fill-color);\n",
              "    }\n",
              "    60% {\n",
              "      border-color: transparent;\n",
              "      border-right-color: var(--fill-color);\n",
              "    }\n",
              "    80% {\n",
              "      border-color: transparent;\n",
              "      border-right-color: var(--fill-color);\n",
              "      border-bottom-color: var(--fill-color);\n",
              "    }\n",
              "    90% {\n",
              "      border-color: transparent;\n",
              "      border-bottom-color: var(--fill-color);\n",
              "    }\n",
              "  }\n",
              "</style>\n",
              "\n",
              "  <script>\n",
              "    async function quickchart(key) {\n",
              "      const quickchartButtonEl =\n",
              "        document.querySelector('#' + key + ' button');\n",
              "      quickchartButtonEl.disabled = true;  // To prevent multiple clicks.\n",
              "      quickchartButtonEl.classList.add('colab-df-spinner');\n",
              "      try {\n",
              "        const charts = await google.colab.kernel.invokeFunction(\n",
              "            'suggestCharts', [key], {});\n",
              "      } catch (error) {\n",
              "        console.error('Error during call to suggestCharts:', error);\n",
              "      }\n",
              "      quickchartButtonEl.classList.remove('colab-df-spinner');\n",
              "      quickchartButtonEl.classList.add('colab-df-quickchart-complete');\n",
              "    }\n",
              "    (() => {\n",
              "      let quickchartButtonEl =\n",
              "        document.querySelector('#df-65f72ddb-0fc4-4a1c-b349-0f583a660951 button');\n",
              "      quickchartButtonEl.style.display =\n",
              "        google.colab.kernel.accessAllowed ? 'block' : 'none';\n",
              "    })();\n",
              "  </script>\n",
              "</div>\n",
              "    </div>\n",
              "  </div>\n"
            ]
          },
          "metadata": {},
          "execution_count": 17
        }
      ]
    }
  ]
}