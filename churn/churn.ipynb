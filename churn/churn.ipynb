{
  "nbformat": 4,
  "nbformat_minor": 0,
  "metadata": {
    "colab": {
      "name": "churn.ipynb",
      "provenance": [],
      "collapsed_sections": [],
      "toc_visible": true
    },
    "kernelspec": {
      "name": "python3",
      "display_name": "Python 3"
    },
    "language_info": {
      "name": "python"
    }
  },
  "cells": [
    {
      "cell_type": "markdown",
      "metadata": {
        "id": "sL7Kdp3moNka"
      },
      "source": [
        "# Churn\n",
        "**Goal**: Our goal is to develop a model to predict the class of an output variable, *y*, based on 20 input features (*x1, …, x20*).  \n",
        "\n",
        "**Data**: The dataset contains labeled samples: 8000 for training and 2000 for testing. Each sample contains 20 input feature. Its label, *y*, can take one of 3 possible values (0, 1, 2). In addition, there are 30 unlabeled samples. The training, test, and unlabeled samples are in CSV files \"*churn.train.csv*\", \"*churn.test.csv*\", and \"*churn.new.csv*\", respectively.    \n",
        "\n",
        "**Approach**: We shall choose a good model for this binary classification task based on results from *k*-fold cross-validation on the 8000 training samples. The selected model will be trained on all 8000 training samples and evaluated on the 2000 test samples. We shall then use the trained model to classify unlabeled samples."
      ]
    },
    {
      "cell_type": "markdown",
      "metadata": {
        "id": "pYaVGfd4qO0B"
      },
      "source": [
        "## Import modules"
      ]
    },
    {
      "cell_type": "code",
      "metadata": {
        "id": "KWlSMPV4oLDw"
      },
      "source": [
        "import pandas as pd # for data handling\n",
        "from sklearn.model_selection import cross_val_score # for cross-validation\n",
        "from sklearn.metrics import accuracy_score, classification_report # evaluation metrics\n",
        "import matplotlib.pyplot as plt # for plotting\n",
        "\n",
        "# scikit-learn classifiers evaluated (change as desired)\n",
        "from sklearn.naive_bayes import GaussianNB \n",
        "from sklearn.tree import DecisionTreeClassifier, plot_tree\n",
        "from sklearn.ensemble import RandomForestClassifier, ExtraTreesClassifier\n",
        "from sklearn.neighbors import KNeighborsClassifier\n",
        "from sklearn.linear_model import LogisticRegression\n",
        "from sklearn.svm import SVC\n",
        "from sklearn.neural_network import MLPClassifier"
      ],
      "execution_count": 1,
      "outputs": []
    },
    {
      "cell_type": "markdown",
      "metadata": {
        "id": "qFXeyqMfqSTQ"
      },
      "source": [
        "## Get data\n",
        "We shall extract the following 3 *CSV* files with data from the *zip* file \"*churn.data.zip*\":\n",
        "1. *churn.train.csv*  with 8000 rows and 21 columns.   \n",
        "2. *churn.test.csv*   with  2000 rows and 21 columns.   \n",
        "3. *churn.new.csv*  with 30 rows and 21 columns.\n",
        "\n",
        "The first column, **y**, in the files \"*churn.train.csv*\" and \"*churn.test.csv*\"  contains the binary output labels. The file \"*churn.new.csv*\" contains unlabeled sampled; the first column **ID** is an identifier. The next 20 columns (*x1*, ..., *x20*) contain input features. \n",
        "\n",
        "We shall read data from these *CSV* files into *pandas* dataframes."
      ]
    },
    {
      "cell_type": "markdown",
      "metadata": {
        "id": "d7UZjWh77hmQ"
      },
      "source": [
        "### Extract *CSV* files from *zip* file\n",
        "We shall use unzip to extract CSV files from zip file with data.\n",
        "- “**!**” allows us to run command line commands from a code cell in a notebook.\n"
      ]
    },
    {
      "cell_type": "code",
      "metadata": {
        "colab": {
          "base_uri": "https://localhost:8080/"
        },
        "id": "qnSnuRaDqbWQ",
        "outputId": "eaa9b2f7-1afc-4ac6-8390-c93caf2d392e"
      },
      "source": [
        "! unzip '/content/drive/MyDrive/Colab Notebooks/courses/sklearn_classifiers/data/churn.data.zip'"
      ],
      "execution_count": 2,
      "outputs": [
        {
          "output_type": "stream",
          "text": [
            "Archive:  /content/drive/MyDrive/Colab Notebooks/courses/sklearn_classifiers/data/churn.data.zip\n",
            "  inflating: churn.new.csv           \n",
            "  inflating: churn.test.csv          \n",
            "  inflating: churn.train.csv         \n"
          ],
          "name": "stdout"
        }
      ]
    },
    {
      "cell_type": "markdown",
      "metadata": {
        "id": "z_Q4wVD18cpP"
      },
      "source": [
        "### Read data into *pandas* dataframes\n",
        "We shall use *pandas* **read_csv** function to read data from the CSV files \"*churn.train.csv*\", \"*churn.test.csv*\", and \"*churn.new.csv*\" to *pandas* dataframes **train**, **test**, and **new**, respectively."
      ]
    },
    {
      "cell_type": "code",
      "metadata": {
        "colab": {
          "base_uri": "https://localhost:8080/",
          "height": 223
        },
        "id": "3LNrsgt9qgYQ",
        "outputId": "a575eb08-8ccc-463e-9004-630146d3e97e"
      },
      "source": [
        "# Read data from CSV files into pandas dataframes\n",
        "train = pd.read_csv('churn.train.csv') # training data\n",
        "test = pd.read_csv('churn.test.csv') # test data\n",
        "new = pd.read_csv('churn.new.csv') # unlabeled data\n",
        "# Show number of rows and columns in each dataframe\n",
        "print('train contains %d rows and %d columns' %train.shape)\n",
        "print('test contains %d rows and %d columns' %test.shape)\n",
        "print('new contains %d rows and %d columns' %new.shape)\n",
        "print('First 3 rows in train:') \n",
        "train.head(3) # display first 3 training samples "
      ],
      "execution_count": 3,
      "outputs": [
        {
          "output_type": "stream",
          "text": [
            "train contains 8000 rows and 21 columns\n",
            "test contains 2000 rows and 21 columns\n",
            "new contains 30 rows and 21 columns\n",
            "First 3 rows in train:\n"
          ],
          "name": "stdout"
        },
        {
          "output_type": "execute_result",
          "data": {
            "text/html": [
              "<div>\n",
              "<style scoped>\n",
              "    .dataframe tbody tr th:only-of-type {\n",
              "        vertical-align: middle;\n",
              "    }\n",
              "\n",
              "    .dataframe tbody tr th {\n",
              "        vertical-align: top;\n",
              "    }\n",
              "\n",
              "    .dataframe thead th {\n",
              "        text-align: right;\n",
              "    }\n",
              "</style>\n",
              "<table border=\"1\" class=\"dataframe\">\n",
              "  <thead>\n",
              "    <tr style=\"text-align: right;\">\n",
              "      <th></th>\n",
              "      <th>y</th>\n",
              "      <th>x1</th>\n",
              "      <th>x2</th>\n",
              "      <th>x3</th>\n",
              "      <th>x4</th>\n",
              "      <th>x5</th>\n",
              "      <th>x6</th>\n",
              "      <th>x7</th>\n",
              "      <th>x8</th>\n",
              "      <th>x9</th>\n",
              "      <th>x10</th>\n",
              "      <th>x11</th>\n",
              "      <th>x12</th>\n",
              "      <th>x13</th>\n",
              "      <th>x14</th>\n",
              "      <th>x15</th>\n",
              "      <th>x16</th>\n",
              "      <th>x17</th>\n",
              "      <th>x18</th>\n",
              "      <th>x19</th>\n",
              "      <th>x20</th>\n",
              "    </tr>\n",
              "  </thead>\n",
              "  <tbody>\n",
              "    <tr>\n",
              "      <th>0</th>\n",
              "      <td>0.0</td>\n",
              "      <td>2.444</td>\n",
              "      <td>-2.329</td>\n",
              "      <td>1.478</td>\n",
              "      <td>-0.728</td>\n",
              "      <td>-1.175</td>\n",
              "      <td>-4.542</td>\n",
              "      <td>-0.581</td>\n",
              "      <td>1.265</td>\n",
              "      <td>0.702</td>\n",
              "      <td>1.354</td>\n",
              "      <td>-1.273</td>\n",
              "      <td>3.469</td>\n",
              "      <td>1.151</td>\n",
              "      <td>-2.121</td>\n",
              "      <td>-1.229</td>\n",
              "      <td>4.518</td>\n",
              "      <td>1.318</td>\n",
              "      <td>-0.253</td>\n",
              "      <td>2.790</td>\n",
              "      <td>3.519</td>\n",
              "    </tr>\n",
              "    <tr>\n",
              "      <th>1</th>\n",
              "      <td>1.0</td>\n",
              "      <td>-0.584</td>\n",
              "      <td>1.923</td>\n",
              "      <td>4.892</td>\n",
              "      <td>-0.281</td>\n",
              "      <td>-2.749</td>\n",
              "      <td>0.955</td>\n",
              "      <td>-3.017</td>\n",
              "      <td>-1.150</td>\n",
              "      <td>3.130</td>\n",
              "      <td>1.612</td>\n",
              "      <td>-4.394</td>\n",
              "      <td>-2.225</td>\n",
              "      <td>0.792</td>\n",
              "      <td>-1.083</td>\n",
              "      <td>-2.672</td>\n",
              "      <td>0.759</td>\n",
              "      <td>1.118</td>\n",
              "      <td>-0.069</td>\n",
              "      <td>6.413</td>\n",
              "      <td>-1.608</td>\n",
              "    </tr>\n",
              "    <tr>\n",
              "      <th>2</th>\n",
              "      <td>2.0</td>\n",
              "      <td>-2.587</td>\n",
              "      <td>1.851</td>\n",
              "      <td>-0.028</td>\n",
              "      <td>-4.569</td>\n",
              "      <td>-2.763</td>\n",
              "      <td>-0.180</td>\n",
              "      <td>1.691</td>\n",
              "      <td>-3.493</td>\n",
              "      <td>-1.696</td>\n",
              "      <td>1.676</td>\n",
              "      <td>-4.444</td>\n",
              "      <td>2.828</td>\n",
              "      <td>0.271</td>\n",
              "      <td>0.108</td>\n",
              "      <td>0.154</td>\n",
              "      <td>0.671</td>\n",
              "      <td>-0.467</td>\n",
              "      <td>-1.908</td>\n",
              "      <td>3.769</td>\n",
              "      <td>-2.186</td>\n",
              "    </tr>\n",
              "  </tbody>\n",
              "</table>\n",
              "</div>"
            ],
            "text/plain": [
              "     y     x1     x2     x3     x4  ...    x16    x17    x18    x19    x20\n",
              "0  0.0  2.444 -2.329  1.478 -0.728  ...  4.518  1.318 -0.253  2.790  3.519\n",
              "1  1.0 -0.584  1.923  4.892 -0.281  ...  0.759  1.118 -0.069  6.413 -1.608\n",
              "2  2.0 -2.587  1.851 -0.028 -4.569  ...  0.671 -0.467 -1.908  3.769 -2.186\n",
              "\n",
              "[3 rows x 21 columns]"
            ]
          },
          "metadata": {
            "tags": []
          },
          "execution_count": 3
        }
      ]
    },
    {
      "cell_type": "code",
      "metadata": {
        "colab": {
          "base_uri": "https://localhost:8080/",
          "height": 143
        },
        "id": "Sqy43wrss_QW",
        "outputId": "d6a6502f-1d55-4494-d86c-aacdc8c38474"
      },
      "source": [
        "print('Last 2 rows in new:') \n",
        "new.tail(2) # display last 2 unlabeled samples"
      ],
      "execution_count": 4,
      "outputs": [
        {
          "output_type": "stream",
          "text": [
            "Last 2 rows in new:\n"
          ],
          "name": "stdout"
        },
        {
          "output_type": "execute_result",
          "data": {
            "text/html": [
              "<div>\n",
              "<style scoped>\n",
              "    .dataframe tbody tr th:only-of-type {\n",
              "        vertical-align: middle;\n",
              "    }\n",
              "\n",
              "    .dataframe tbody tr th {\n",
              "        vertical-align: top;\n",
              "    }\n",
              "\n",
              "    .dataframe thead th {\n",
              "        text-align: right;\n",
              "    }\n",
              "</style>\n",
              "<table border=\"1\" class=\"dataframe\">\n",
              "  <thead>\n",
              "    <tr style=\"text-align: right;\">\n",
              "      <th></th>\n",
              "      <th>ID</th>\n",
              "      <th>x1</th>\n",
              "      <th>x2</th>\n",
              "      <th>x3</th>\n",
              "      <th>x4</th>\n",
              "      <th>x5</th>\n",
              "      <th>x6</th>\n",
              "      <th>x7</th>\n",
              "      <th>x8</th>\n",
              "      <th>x9</th>\n",
              "      <th>x10</th>\n",
              "      <th>x11</th>\n",
              "      <th>x12</th>\n",
              "      <th>x13</th>\n",
              "      <th>x14</th>\n",
              "      <th>x15</th>\n",
              "      <th>x16</th>\n",
              "      <th>x17</th>\n",
              "      <th>x18</th>\n",
              "      <th>x19</th>\n",
              "      <th>x20</th>\n",
              "    </tr>\n",
              "  </thead>\n",
              "  <tbody>\n",
              "    <tr>\n",
              "      <th>28</th>\n",
              "      <td>ID_029</td>\n",
              "      <td>-2.839</td>\n",
              "      <td>-2.248</td>\n",
              "      <td>2.086</td>\n",
              "      <td>-5.580</td>\n",
              "      <td>-2.757</td>\n",
              "      <td>0.161</td>\n",
              "      <td>2.322</td>\n",
              "      <td>-1.600</td>\n",
              "      <td>1.542</td>\n",
              "      <td>-4.021</td>\n",
              "      <td>2.491</td>\n",
              "      <td>0.411</td>\n",
              "      <td>-2.039</td>\n",
              "      <td>-3.103</td>\n",
              "      <td>-0.302</td>\n",
              "      <td>-0.018</td>\n",
              "      <td>-3.063</td>\n",
              "      <td>-2.129</td>\n",
              "      <td>-2.152</td>\n",
              "      <td>-5.939</td>\n",
              "    </tr>\n",
              "    <tr>\n",
              "      <th>29</th>\n",
              "      <td>ID_030</td>\n",
              "      <td>-0.803</td>\n",
              "      <td>2.870</td>\n",
              "      <td>-0.363</td>\n",
              "      <td>-3.411</td>\n",
              "      <td>-1.058</td>\n",
              "      <td>-0.139</td>\n",
              "      <td>-1.646</td>\n",
              "      <td>-1.414</td>\n",
              "      <td>1.927</td>\n",
              "      <td>-1.077</td>\n",
              "      <td>-1.430</td>\n",
              "      <td>3.216</td>\n",
              "      <td>-2.766</td>\n",
              "      <td>-0.612</td>\n",
              "      <td>-4.650</td>\n",
              "      <td>-3.347</td>\n",
              "      <td>-3.290</td>\n",
              "      <td>-1.257</td>\n",
              "      <td>-3.598</td>\n",
              "      <td>-0.109</td>\n",
              "    </tr>\n",
              "  </tbody>\n",
              "</table>\n",
              "</div>"
            ],
            "text/plain": [
              "        ID     x1     x2     x3     x4  ...    x16    x17    x18    x19    x20\n",
              "28  ID_029 -2.839 -2.248  2.086 -5.580  ... -0.018 -3.063 -2.129 -2.152 -5.939\n",
              "29  ID_030 -0.803  2.870 -0.363 -3.411  ... -3.347 -3.290 -1.257 -3.598 -0.109\n",
              "\n",
              "[2 rows x 21 columns]"
            ]
          },
          "metadata": {
            "tags": []
          },
          "execution_count": 4
        }
      ]
    },
    {
      "cell_type": "markdown",
      "metadata": {
        "id": "Cy4SdaiY9lFo"
      },
      "source": [
        "### Specify inputs and outputs\n",
        "- **features**: List of the 16 input feature names\n",
        "- **X_train**: $8000 \\times 20$ array containing input values for training samples.\n",
        "- **y_train**: Array containing labels for the 8000 training samples.\n",
        "- **X_test**: $2000 \\times 20$ array containing input values for test samples.\n",
        "- **y_test**: Array containing labels for the 2000 training samples.\n",
        "- **X_new**: $30 \\times 20$ array containing input values for unlabeled samples.\n",
        "\n",
        "\n",
        "\n",
        "\n"
      ]
    },
    {
      "cell_type": "code",
      "metadata": {
        "colab": {
          "base_uri": "https://localhost:8080/"
        },
        "id": "GJ8ohEGf-Mi8",
        "outputId": "718c6657-c11a-490b-bc23-10077fa5d287"
      },
      "source": [
        "features = list(train)[1:] # all but the first column header are feature names\n",
        "print(\"features:\", features)\n",
        "X_train, X_test, X_new = train[features], test[features], new[features]\n",
        "y_train, y_test = train.y, test.y\n",
        "print('Shapes:')\n",
        "print(f'X_train: {X_train.shape}, X_test: {X_test.shape}, X_new: {X_new.shape}')\n",
        "print(f'y_train: {y_train.shape}, y_test: {y_test.shape}')"
      ],
      "execution_count": 5,
      "outputs": [
        {
          "output_type": "stream",
          "text": [
            "features: ['x1', 'x2', 'x3', 'x4', 'x5', 'x6', 'x7', 'x8', 'x9', 'x10', 'x11', 'x12', 'x13', 'x14', 'x15', 'x16', 'x17', 'x18', 'x19', 'x20']\n",
            "Shapes:\n",
            "X_train: (8000, 20), X_test: (2000, 20), X_new: (30, 20)\n",
            "y_train: (8000,), y_test: (2000,)\n"
          ],
          "name": "stdout"
        }
      ]
    },
    {
      "cell_type": "markdown",
      "metadata": {
        "id": "DnxBpRlZ-5I9"
      },
      "source": [
        "## Evaluate models using *k*-fold cross-validation\n",
        "We shall use **4**-fold cross-validation so that 6000 of the 8000 training samples are used for training and the remaining 2000 samples are used for validation in each fold. The mean cross-validation accuracy for each model with chosen hyper-parameters on the 4 runs will be computed using the command:\n",
        "- **score = cross_val_score(model, X_train, y_train, cv=4).mean()**\n",
        "> - model: classifier object with specified hyperparameters\n",
        "> - X_train, y_train: Inputs and output labels for training\n",
        "> - cv: number of folds in cross-validation\n",
        "> - mean(): computes mean accuracy from the *cv* runs \n",
        "\n",
        "You can look up the documentation for each classifier, change hyper-parameter values, and observe the results. We shall also observe the time it takes to train and evaluate each model 4 times in this process.\n"
      ]
    },
    {
      "cell_type": "markdown",
      "metadata": {
        "id": "5txUT58tqyFa"
      },
      "source": [
        "### GaussianNB\n",
        "\n",
        "https://scikit-learn.org/stable/modules/generated/sklearn.naive_bayes.GaussianNB.html"
      ]
    },
    {
      "cell_type": "code",
      "metadata": {
        "colab": {
          "base_uri": "https://localhost:8080/"
        },
        "id": "NrfDQpqMq8Jr",
        "outputId": "a3b898df-97e0-4752-d91f-0d692381404a"
      },
      "source": [
        "%%time\n",
        "model = GaussianNB() # change hyperparameters as desired\n",
        "score = cross_val_score(model, X_train, y_train, cv=4).mean() # mean cross-validation accuracy\n",
        "print(f'Mean cross-validation accuracy = {score:0.4f}')"
      ],
      "execution_count": 6,
      "outputs": [
        {
          "output_type": "stream",
          "text": [
            "Mean cross-validation accuracy = 0.8587\n",
            "CPU times: user 35.2 ms, sys: 2.86 ms, total: 38 ms\n",
            "Wall time: 43.1 ms\n"
          ],
          "name": "stdout"
        }
      ]
    },
    {
      "cell_type": "markdown",
      "metadata": {
        "id": "L61SWfGztPUz"
      },
      "source": [
        "### DecisionTreeClassifier\n",
        "\n",
        "https://scikit-learn.org/stable/modules/generated/sklearn.tree.DecisionTreeClassifier.html"
      ]
    },
    {
      "cell_type": "code",
      "metadata": {
        "colab": {
          "base_uri": "https://localhost:8080/"
        },
        "id": "V6IlKW1ZKFrq",
        "outputId": "e11b8b7c-ef81-4f64-f024-3476bae5499a"
      },
      "source": [
        "%%time\n",
        "model = DecisionTreeClassifier(max_leaf_nodes=10) # change hyperparameters as desired\n",
        "score = cross_val_score(model, X_train, y_train, cv=4).mean() # mean cross-validation accuracy\n",
        "print(f'Mean cross-validation accuracy = {score:0.4f}')"
      ],
      "execution_count": 7,
      "outputs": [
        {
          "output_type": "stream",
          "text": [
            "Mean cross-validation accuracy = 0.6831\n",
            "CPU times: user 322 ms, sys: 2.65 ms, total: 325 ms\n",
            "Wall time: 334 ms\n"
          ],
          "name": "stdout"
        }
      ]
    },
    {
      "cell_type": "markdown",
      "metadata": {
        "id": "dw2J3q89Kq8u"
      },
      "source": [
        "### RandomForestClassifier\n",
        "\n",
        "https://scikit-learn.org/stable/modules/generated/sklearn.ensemble.RandomForestClassifier.html"
      ]
    },
    {
      "cell_type": "code",
      "metadata": {
        "colab": {
          "base_uri": "https://localhost:8080/"
        },
        "id": "Bg1tRS0KK4zl",
        "outputId": "f5222d40-a7f1-4c4b-a844-61e4bdb48575"
      },
      "source": [
        "%%time\n",
        "model = RandomForestClassifier(n_estimators=100) # change hyperparameters as desired\n",
        "score = cross_val_score(model, X_train, y_train, cv=4).mean() # mean cross-validation accuracy\n",
        "print(f'Mean cross-validation accuracy = {score:0.4f}')"
      ],
      "execution_count": 8,
      "outputs": [
        {
          "output_type": "stream",
          "text": [
            "Mean cross-validation accuracy = 0.9433\n",
            "CPU times: user 8.89 s, sys: 11.6 ms, total: 8.9 s\n",
            "Wall time: 8.91 s\n"
          ],
          "name": "stdout"
        }
      ]
    },
    {
      "cell_type": "markdown",
      "metadata": {
        "id": "d86dfu7ducAE"
      },
      "source": [
        "### ExtraTreesClassifier\n",
        "\n",
        "https://scikit-learn.org/stable/modules/generated/sklearn.ensemble.ExtraTreesClassifier.html"
      ]
    },
    {
      "cell_type": "code",
      "metadata": {
        "colab": {
          "base_uri": "https://localhost:8080/"
        },
        "id": "emyzWlJyKUSx",
        "outputId": "926cf5a6-965b-4dbf-dbc9-54002f7a4107"
      },
      "source": [
        "%%time\n",
        "model = ExtraTreesClassifier(n_estimators=100) # change hyperparameters as desired\n",
        "score = cross_val_score(model, X_train, y_train, cv=4).mean() # mean cross-validation accuracy\n",
        "print(f'Mean cross-validation accuracy = {score:0.4f}')"
      ],
      "execution_count": 9,
      "outputs": [
        {
          "output_type": "stream",
          "text": [
            "Mean cross-validation accuracy = 0.9585\n",
            "CPU times: user 3.18 s, sys: 46 ms, total: 3.22 s\n",
            "Wall time: 3.23 s\n"
          ],
          "name": "stdout"
        }
      ]
    },
    {
      "cell_type": "markdown",
      "metadata": {
        "id": "LRG62pOxwrQT"
      },
      "source": [
        "### KNeighborsClassifier\n",
        "\n",
        "https://scikit-learn.org/stable/modules/generated/sklearn.neighbors.KNeighborsClassifier.html"
      ]
    },
    {
      "cell_type": "code",
      "metadata": {
        "colab": {
          "base_uri": "https://localhost:8080/"
        },
        "id": "bXltDGqnLHmH",
        "outputId": "7136ec10-fdbe-41f4-87df-4833550cc3ff"
      },
      "source": [
        "%%time\n",
        "model = KNeighborsClassifier(n_neighbors=9, algorithm='brute') # change hyperparameters as desired\n",
        "score = cross_val_score(model, X_train, y_train, cv=4).mean() # mean cross-validation accuracy\n",
        "print(f'Mean cross-validation accuracy = {score:0.4f}')"
      ],
      "execution_count": 13,
      "outputs": [
        {
          "output_type": "stream",
          "text": [
            "Mean cross-validation accuracy = 0.9759\n",
            "CPU times: user 1.49 s, sys: 393 ms, total: 1.89 s\n",
            "Wall time: 1.35 s\n"
          ],
          "name": "stdout"
        }
      ]
    },
    {
      "cell_type": "markdown",
      "metadata": {
        "id": "UlOltPrLLrug"
      },
      "source": [
        "### LogisticRegression\n",
        "\n",
        "https://scikit-learn.org/stable/modules/generated/sklearn.linear_model.LogisticRegression.html"
      ]
    },
    {
      "cell_type": "code",
      "metadata": {
        "colab": {
          "base_uri": "https://localhost:8080/"
        },
        "id": "bCHYnbyHL3SH",
        "outputId": "153b6457-db48-47fd-95dc-df0d5cc89748"
      },
      "source": [
        "%%time\n",
        "model = LogisticRegression(max_iter=10000) # change hyperparameters as desired\n",
        "score = cross_val_score(model, X_train, y_train, cv=4).mean() # mean cross-validation accuracy\n",
        "print(f'Mean cross-validation accuracy = {score:0.4f}')"
      ],
      "execution_count": 14,
      "outputs": [
        {
          "output_type": "stream",
          "text": [
            "Mean cross-validation accuracy = 0.8681\n",
            "CPU times: user 705 ms, sys: 551 ms, total: 1.26 s\n",
            "Wall time: 693 ms\n"
          ],
          "name": "stdout"
        }
      ]
    },
    {
      "cell_type": "markdown",
      "metadata": {
        "id": "A-iTOgGMMPQN"
      },
      "source": [
        "### SVC\n",
        "\n",
        "https://scikit-learn.org/stable/modules/generated/sklearn.svm.SVC.html"
      ]
    },
    {
      "cell_type": "code",
      "metadata": {
        "colab": {
          "base_uri": "https://localhost:8080/"
        },
        "id": "dABpGY4CMZEx",
        "outputId": "53e7e1b9-268c-49f6-f063-bbb2a3f3f6c5"
      },
      "source": [
        "%%time\n",
        "model = SVC(C=1.0) # change hyperparameters as desired\n",
        "score = cross_val_score(model, X_train, y_train, cv=4).mean() # mean cross-validation accuracy\n",
        "print(f'Mean cross-validation accuracy = {score:0.4f}')"
      ],
      "execution_count": 16,
      "outputs": [
        {
          "output_type": "stream",
          "text": [
            "Mean cross-validation accuracy = 0.9794\n",
            "CPU times: user 2.97 s, sys: 6.78 ms, total: 2.98 s\n",
            "Wall time: 2.99 s\n"
          ],
          "name": "stdout"
        }
      ]
    },
    {
      "cell_type": "markdown",
      "metadata": {
        "id": "HRyD_Sx_5UQa"
      },
      "source": [
        "### MLPClassifier\n",
        "https://scikit-learn.org/stable/modules/generated/sklearn.neural_network.MLPClassifier.html"
      ]
    },
    {
      "cell_type": "code",
      "metadata": {
        "colab": {
          "base_uri": "https://localhost:8080/"
        },
        "id": "IdJ-K_USNDxe",
        "outputId": "a00a0d28-40a6-4e8b-b7b5-0732ea955096"
      },
      "source": [
        "%%time\n",
        "model = MLPClassifier(hidden_layer_sizes=100, max_iter=1000) # change hyperparameters as desired\n",
        "score = cross_val_score(model, X_train, y_train, cv=4).mean() # mean cross-validation accuracy\n",
        "print(f'Mean cross-validation accuracy = {score:0.4f}')"
      ],
      "execution_count": 17,
      "outputs": [
        {
          "output_type": "stream",
          "text": [
            "Mean cross-validation accuracy = 0.9649\n",
            "CPU times: user 54.1 s, sys: 41.6 s, total: 1min 35s\n",
            "Wall time: 49.1 s\n"
          ],
          "name": "stdout"
        }
      ]
    },
    {
      "cell_type": "markdown",
      "metadata": {
        "id": "C2SCLsZcC2MA"
      },
      "source": [
        "## Select a good model\n",
        "Since a Support Vector Classifier has high cross-validation accuracy, we shall search for good hyper-parameter values for a SVC model using cross-validation. In this example I shall vary the regularization parameter C."
      ]
    },
    {
      "cell_type": "code",
      "metadata": {
        "colab": {
          "base_uri": "https://localhost:8080/"
        },
        "id": "ic1FrpZVNkCL",
        "outputId": "cbcad32e-ebca-4b45-bbaf-d7ce1e191be5"
      },
      "source": [
        "for c in [0.01, 0.1]: # number of rules\n",
        "    model = SVC(C=c)\n",
        "    score = cross_val_score(model, X_train, y_train, cv=4).mean() # mean cross-validation accuracy\n",
        "    print(f'Mean cross-validation accuracy with C = {c:0.1f} = {score:0.4f}')"
      ],
      "execution_count": 18,
      "outputs": [
        {
          "output_type": "stream",
          "text": [
            "Mean cross-validation accuracy with C = 0.0 = 0.9215\n",
            "Mean cross-validation accuracy with C = 0.1 = 0.9635\n"
          ],
          "name": "stdout"
        }
      ]
    },
    {
      "cell_type": "markdown",
      "metadata": {
        "id": "prBLKKoqW30p"
      },
      "source": [
        "For this classification problem, we shall choose:\n",
        "- SVC(C=1.0) "
      ]
    },
    {
      "cell_type": "code",
      "metadata": {
        "colab": {
          "base_uri": "https://localhost:8080/"
        },
        "id": "-GSe63ssXaS4",
        "outputId": "b3917981-d31a-49cc-d84b-5fbee4c6320a"
      },
      "source": [
        "chosen_model = SVC(C=1.0) # chosen model\n",
        "print(chosen_model) # display model parameters"
      ],
      "execution_count": 19,
      "outputs": [
        {
          "output_type": "stream",
          "text": [
            "SVC(C=1.0, break_ties=False, cache_size=200, class_weight=None, coef0=0.0,\n",
            "    decision_function_shape='ovr', degree=3, gamma='scale', kernel='rbf',\n",
            "    max_iter=-1, probability=False, random_state=None, shrinking=True,\n",
            "    tol=0.001, verbose=False)\n"
          ],
          "name": "stdout"
        }
      ]
    },
    {
      "cell_type": "markdown",
      "metadata": {
        "id": "mObRT95gXrzZ"
      },
      "source": [
        "## Train and test selected model"
      ]
    },
    {
      "cell_type": "code",
      "metadata": {
        "colab": {
          "base_uri": "https://localhost:8080/"
        },
        "id": "RZ_fqywZXw83",
        "outputId": "f9ac8b36-a3e3-47e0-fc80-7ea808f38014"
      },
      "source": [
        "%%time\n",
        "chosen_model.fit(X_train, y_train) # train selected model on ALL training examples\n",
        "predicted = chosen_model.predict(X_test) # predicted churn for test examples\n",
        "acc = accuracy_score(y_test, predicted) # accuracy on test samples\n",
        "print(f'Accuracy on test samples = {acc:0.4f}') # show test accuracy\n",
        "print(\"Classification report on test samples:\") # for precision, recall, F1-score\n",
        "print(classification_report(y_test, predicted, digits=4)) # rounded to 4 decimal places"
      ],
      "execution_count": 20,
      "outputs": [
        {
          "output_type": "stream",
          "text": [
            "Accuracy on test samples = 0.9770\n",
            "Classification report on test samples:\n",
            "              precision    recall  f1-score   support\n",
            "\n",
            "         0.0     0.9819    0.9716    0.9767       670\n",
            "         1.0     0.9810    0.9810    0.9810       633\n",
            "         2.0     0.9688    0.9785    0.9736       697\n",
            "\n",
            "    accuracy                         0.9770      2000\n",
            "   macro avg     0.9772    0.9771    0.9771      2000\n",
            "weighted avg     0.9770    0.9770    0.9770      2000\n",
            "\n",
            "CPU times: user 1.13 s, sys: 7.21 ms, total: 1.14 s\n",
            "Wall time: 1.14 s\n"
          ],
          "name": "stdout"
        }
      ]
    },
    {
      "cell_type": "markdown",
      "metadata": {
        "id": "HaPNAkBiGCkA"
      },
      "source": [
        "## Predict class for unlabeled samples\n",
        "We shall use our trained model to predict the output class for the unlabeled samples."
      ]
    },
    {
      "cell_type": "code",
      "metadata": {
        "colab": {
          "base_uri": "https://localhost:8080/",
          "height": 935
        },
        "id": "yEqI9Ic6GV_v",
        "outputId": "0d120dea-d385-4a32-b680-d5b5b47b7410"
      },
      "source": [
        "predicted_new = chosen_model.predict(X_new) # predicted classes for unlabeled samples\n",
        "churn_prediction = pd.DataFrame() # dataframe with predicted classes\n",
        "churn_prediction['ID'] = new.ID # identifiers for unlabeled samples\n",
        "churn_prediction['y'] = predicted_new # # predicted classes for unlabeled samples\n",
        "churn_prediction.to_csv('churn.prediction.csv', index=False) # save as CSV file\n",
        "churn_prediction # display results"
      ],
      "execution_count": 21,
      "outputs": [
        {
          "output_type": "execute_result",
          "data": {
            "text/html": [
              "<div>\n",
              "<style scoped>\n",
              "    .dataframe tbody tr th:only-of-type {\n",
              "        vertical-align: middle;\n",
              "    }\n",
              "\n",
              "    .dataframe tbody tr th {\n",
              "        vertical-align: top;\n",
              "    }\n",
              "\n",
              "    .dataframe thead th {\n",
              "        text-align: right;\n",
              "    }\n",
              "</style>\n",
              "<table border=\"1\" class=\"dataframe\">\n",
              "  <thead>\n",
              "    <tr style=\"text-align: right;\">\n",
              "      <th></th>\n",
              "      <th>ID</th>\n",
              "      <th>y</th>\n",
              "    </tr>\n",
              "  </thead>\n",
              "  <tbody>\n",
              "    <tr>\n",
              "      <th>0</th>\n",
              "      <td>ID_001</td>\n",
              "      <td>0.0</td>\n",
              "    </tr>\n",
              "    <tr>\n",
              "      <th>1</th>\n",
              "      <td>ID_002</td>\n",
              "      <td>1.0</td>\n",
              "    </tr>\n",
              "    <tr>\n",
              "      <th>2</th>\n",
              "      <td>ID_003</td>\n",
              "      <td>0.0</td>\n",
              "    </tr>\n",
              "    <tr>\n",
              "      <th>3</th>\n",
              "      <td>ID_004</td>\n",
              "      <td>0.0</td>\n",
              "    </tr>\n",
              "    <tr>\n",
              "      <th>4</th>\n",
              "      <td>ID_005</td>\n",
              "      <td>0.0</td>\n",
              "    </tr>\n",
              "    <tr>\n",
              "      <th>5</th>\n",
              "      <td>ID_006</td>\n",
              "      <td>0.0</td>\n",
              "    </tr>\n",
              "    <tr>\n",
              "      <th>6</th>\n",
              "      <td>ID_007</td>\n",
              "      <td>0.0</td>\n",
              "    </tr>\n",
              "    <tr>\n",
              "      <th>7</th>\n",
              "      <td>ID_008</td>\n",
              "      <td>0.0</td>\n",
              "    </tr>\n",
              "    <tr>\n",
              "      <th>8</th>\n",
              "      <td>ID_009</td>\n",
              "      <td>0.0</td>\n",
              "    </tr>\n",
              "    <tr>\n",
              "      <th>9</th>\n",
              "      <td>ID_010</td>\n",
              "      <td>0.0</td>\n",
              "    </tr>\n",
              "    <tr>\n",
              "      <th>10</th>\n",
              "      <td>ID_011</td>\n",
              "      <td>0.0</td>\n",
              "    </tr>\n",
              "    <tr>\n",
              "      <th>11</th>\n",
              "      <td>ID_012</td>\n",
              "      <td>0.0</td>\n",
              "    </tr>\n",
              "    <tr>\n",
              "      <th>12</th>\n",
              "      <td>ID_013</td>\n",
              "      <td>1.0</td>\n",
              "    </tr>\n",
              "    <tr>\n",
              "      <th>13</th>\n",
              "      <td>ID_014</td>\n",
              "      <td>1.0</td>\n",
              "    </tr>\n",
              "    <tr>\n",
              "      <th>14</th>\n",
              "      <td>ID_015</td>\n",
              "      <td>1.0</td>\n",
              "    </tr>\n",
              "    <tr>\n",
              "      <th>15</th>\n",
              "      <td>ID_016</td>\n",
              "      <td>1.0</td>\n",
              "    </tr>\n",
              "    <tr>\n",
              "      <th>16</th>\n",
              "      <td>ID_017</td>\n",
              "      <td>1.0</td>\n",
              "    </tr>\n",
              "    <tr>\n",
              "      <th>17</th>\n",
              "      <td>ID_018</td>\n",
              "      <td>1.0</td>\n",
              "    </tr>\n",
              "    <tr>\n",
              "      <th>18</th>\n",
              "      <td>ID_019</td>\n",
              "      <td>1.0</td>\n",
              "    </tr>\n",
              "    <tr>\n",
              "      <th>19</th>\n",
              "      <td>ID_020</td>\n",
              "      <td>1.0</td>\n",
              "    </tr>\n",
              "    <tr>\n",
              "      <th>20</th>\n",
              "      <td>ID_021</td>\n",
              "      <td>1.0</td>\n",
              "    </tr>\n",
              "    <tr>\n",
              "      <th>21</th>\n",
              "      <td>ID_022</td>\n",
              "      <td>1.0</td>\n",
              "    </tr>\n",
              "    <tr>\n",
              "      <th>22</th>\n",
              "      <td>ID_023</td>\n",
              "      <td>2.0</td>\n",
              "    </tr>\n",
              "    <tr>\n",
              "      <th>23</th>\n",
              "      <td>ID_024</td>\n",
              "      <td>2.0</td>\n",
              "    </tr>\n",
              "    <tr>\n",
              "      <th>24</th>\n",
              "      <td>ID_025</td>\n",
              "      <td>2.0</td>\n",
              "    </tr>\n",
              "    <tr>\n",
              "      <th>25</th>\n",
              "      <td>ID_026</td>\n",
              "      <td>2.0</td>\n",
              "    </tr>\n",
              "    <tr>\n",
              "      <th>26</th>\n",
              "      <td>ID_027</td>\n",
              "      <td>2.0</td>\n",
              "    </tr>\n",
              "    <tr>\n",
              "      <th>27</th>\n",
              "      <td>ID_028</td>\n",
              "      <td>2.0</td>\n",
              "    </tr>\n",
              "    <tr>\n",
              "      <th>28</th>\n",
              "      <td>ID_029</td>\n",
              "      <td>2.0</td>\n",
              "    </tr>\n",
              "    <tr>\n",
              "      <th>29</th>\n",
              "      <td>ID_030</td>\n",
              "      <td>2.0</td>\n",
              "    </tr>\n",
              "  </tbody>\n",
              "</table>\n",
              "</div>"
            ],
            "text/plain": [
              "        ID    y\n",
              "0   ID_001  0.0\n",
              "1   ID_002  1.0\n",
              "2   ID_003  0.0\n",
              "3   ID_004  0.0\n",
              "4   ID_005  0.0\n",
              "5   ID_006  0.0\n",
              "6   ID_007  0.0\n",
              "7   ID_008  0.0\n",
              "8   ID_009  0.0\n",
              "9   ID_010  0.0\n",
              "10  ID_011  0.0\n",
              "11  ID_012  0.0\n",
              "12  ID_013  1.0\n",
              "13  ID_014  1.0\n",
              "14  ID_015  1.0\n",
              "15  ID_016  1.0\n",
              "16  ID_017  1.0\n",
              "17  ID_018  1.0\n",
              "18  ID_019  1.0\n",
              "19  ID_020  1.0\n",
              "20  ID_021  1.0\n",
              "21  ID_022  1.0\n",
              "22  ID_023  2.0\n",
              "23  ID_024  2.0\n",
              "24  ID_025  2.0\n",
              "25  ID_026  2.0\n",
              "26  ID_027  2.0\n",
              "27  ID_028  2.0\n",
              "28  ID_029  2.0\n",
              "29  ID_030  2.0"
            ]
          },
          "metadata": {
            "tags": []
          },
          "execution_count": 21
        }
      ]
    }
  ]
}