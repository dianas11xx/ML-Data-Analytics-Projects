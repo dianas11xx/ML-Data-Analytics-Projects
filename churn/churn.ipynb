{
  "nbformat": 4,
  "nbformat_minor": 0,
  "metadata": {
    "colab": {
      "name": "churn.ipynb",
      "provenance": []
    },
    "kernelspec": {
      "name": "python3",
      "display_name": "Python 3"
    },
    "language_info": {
      "name": "python"
    }
  },
  "cells": [
    {
      "cell_type": "markdown",
      "metadata": {
        "id": "sL7Kdp3moNka"
      },
      "source": [
        "# Churn\n",
        "**Goal**: Our goal is to develop a model to predict the class of an output variable, *y*, based on 20 input features (*x1, …, x20*).  \n",
        "\n",
        "**Data**: The dataset contains labeled samples: 8000 for training and 2000 for testing. Each sample contains 20 input feature. Its label, *y*, can take one of 3 possible values (0, 1, 2). In addition, there are 30 unlabeled samples. The training, test, and unlabeled samples are in CSV files \"*churn.train.csv*\", \"*churn.test.csv*\", and \"*churn.new.csv*\", respectively.    \n",
        "\n",
        "**Approach**: We shall choose a good model for this binary classification task based on results from *k*-fold cross-validation on the 8000 training samples. The selected model will be trained on all 8000 training samples and evaluated on the 2000 test samples. We shall then use the trained model to classify unlabeled samples."
      ]
    },
    {
      "cell_type": "markdown",
      "metadata": {
        "id": "pYaVGfd4qO0B"
      },
      "source": [
        "## Import modules"
      ]
    },
    {
      "cell_type": "code",
      "metadata": {
        "id": "KWlSMPV4oLDw"
      },
      "source": [
        "import pandas as pd # for data handling\n",
        "from sklearn.model_selection import cross_val_score # for cross-validation\n",
        "from sklearn.metrics import accuracy_score, classification_report # evaluation metrics\n",
        "import matplotlib.pyplot as plt # for plotting\n",
        "\n",
        "# scikit-learn classifiers evaluated (change as desired)\n",
        "from sklearn.naive_bayes import GaussianNB\n",
        "from sklearn.tree import DecisionTreeClassifier, plot_tree\n",
        "from sklearn.ensemble import RandomForestClassifier, ExtraTreesClassifier\n",
        "from sklearn.neighbors import KNeighborsClassifier\n",
        "from sklearn.linear_model import LogisticRegression\n",
        "from sklearn.svm import SVC\n",
        "from sklearn.neural_network import MLPClassifier"
      ],
      "execution_count": 1,
      "outputs": []
    },
    {
      "cell_type": "markdown",
      "metadata": {
        "id": "qFXeyqMfqSTQ"
      },
      "source": [
        "## Get data\n",
        "We shall extract the following 3 *CSV* files with data from the *zip* file \"*churn.data.zip*\":\n",
        "1. *churn.train.csv*  with 8000 rows and 21 columns.   \n",
        "2. *churn.test.csv*   with  2000 rows and 21 columns.   \n",
        "3. *churn.new.csv*  with 30 rows and 21 columns.\n",
        "\n",
        "The first column, **y**, in the files \"*churn.train.csv*\" and \"*churn.test.csv*\"  contains the binary output labels. The file \"*churn.new.csv*\" contains unlabeled sampled; the first column **ID** is an identifier. The next 20 columns (*x1*, ..., *x20*) contain input features.\n",
        "\n",
        "We shall read data from these *CSV* files into *pandas* dataframes."
      ]
    },
    {
      "cell_type": "markdown",
      "metadata": {
        "id": "d7UZjWh77hmQ"
      },
      "source": [
        "### Extract *CSV* files from *zip* file\n",
        "We shall use unzip to extract CSV files from zip file with data.\n",
        "- “**!**” allows us to run command line commands from a code cell in a notebook.\n"
      ]
    },
    {
      "cell_type": "code",
      "metadata": {
        "colab": {
          "base_uri": "https://localhost:8080/"
        },
        "id": "qnSnuRaDqbWQ",
        "outputId": "eaa9b2f7-1afc-4ac6-8390-c93caf2d392e"
      },
      "source": [
        "! unzip '/content/drive/MyDrive/Colab Notebooks/courses/sklearn_classifiers/data/churn.data.zip'"
      ],
      "execution_count": null,
      "outputs": [
        {
          "output_type": "stream",
          "text": [
            "Archive:  /content/drive/MyDrive/Colab Notebooks/courses/sklearn_classifiers/data/churn.data.zip\n",
            "  inflating: churn.new.csv           \n",
            "  inflating: churn.test.csv          \n",
            "  inflating: churn.train.csv         \n"
          ],
          "name": "stdout"
        }
      ]
    },
    {
      "cell_type": "markdown",
      "metadata": {
        "id": "z_Q4wVD18cpP"
      },
      "source": [
        "### Read data into *pandas* dataframes\n",
        "We shall use *pandas* **read_csv** function to read data from the CSV files \"*churn.train.csv*\", \"*churn.test.csv*\", and \"*churn.new.csv*\" to *pandas* dataframes **train**, **test**, and **new**, respectively."
      ]
    },
    {
      "cell_type": "code",
      "metadata": {
        "colab": {
          "base_uri": "https://localhost:8080/",
          "height": 262
        },
        "id": "3LNrsgt9qgYQ",
        "outputId": "712aaaab-93bc-45d9-ea9d-0fa4e87afcdb"
      },
      "source": [
        "# Read data from CSV files into pandas dataframes\n",
        "train = pd.read_csv('/content/sample_data/churn.train.csv') # training data\n",
        "test = pd.read_csv('/content/sample_data/churn.test.csv') # test data\n",
        "new = pd.read_csv('/content/sample_data/churn.new.csv') # unlabeled data\n",
        "# Show number of rows and columns in each dataframe\n",
        "print('train contains %d rows and %d columns' %train.shape)\n",
        "print('test contains %d rows and %d columns' %test.shape)\n",
        "print('new contains %d rows and %d columns' %new.shape)\n",
        "print('First 3 rows in train:')\n",
        "train.head(3) # display first 3 training samples"
      ],
      "execution_count": 4,
      "outputs": [
        {
          "output_type": "stream",
          "name": "stdout",
          "text": [
            "train contains 8000 rows and 21 columns\n",
            "test contains 2000 rows and 21 columns\n",
            "new contains 30 rows and 21 columns\n",
            "First 3 rows in train:\n"
          ]
        },
        {
          "output_type": "execute_result",
          "data": {
            "text/plain": [
              "     y     x1     x2     x3     x4     x5     x6     x7     x8     x9  ...  \\\n",
              "0  0.0  2.444 -2.329  1.478 -0.728 -1.175 -4.542 -0.581  1.265  0.702  ...   \n",
              "1  1.0 -0.584  1.923  4.892 -0.281 -2.749  0.955 -3.017 -1.150  3.130  ...   \n",
              "2  2.0 -2.587  1.851 -0.028 -4.569 -2.763 -0.180  1.691 -3.493 -1.696  ...   \n",
              "\n",
              "     x11    x12    x13    x14    x15    x16    x17    x18    x19    x20  \n",
              "0 -1.273  3.469  1.151 -2.121 -1.229  4.518  1.318 -0.253  2.790  3.519  \n",
              "1 -4.394 -2.225  0.792 -1.083 -2.672  0.759  1.118 -0.069  6.413 -1.608  \n",
              "2 -4.444  2.828  0.271  0.108  0.154  0.671 -0.467 -1.908  3.769 -2.186  \n",
              "\n",
              "[3 rows x 21 columns]"
            ],
            "text/html": [
              "\n",
              "  <div id=\"df-9156f1bc-cbf7-4002-94d8-b7ed01d9c39e\" class=\"colab-df-container\">\n",
              "    <div>\n",
              "<style scoped>\n",
              "    .dataframe tbody tr th:only-of-type {\n",
              "        vertical-align: middle;\n",
              "    }\n",
              "\n",
              "    .dataframe tbody tr th {\n",
              "        vertical-align: top;\n",
              "    }\n",
              "\n",
              "    .dataframe thead th {\n",
              "        text-align: right;\n",
              "    }\n",
              "</style>\n",
              "<table border=\"1\" class=\"dataframe\">\n",
              "  <thead>\n",
              "    <tr style=\"text-align: right;\">\n",
              "      <th></th>\n",
              "      <th>y</th>\n",
              "      <th>x1</th>\n",
              "      <th>x2</th>\n",
              "      <th>x3</th>\n",
              "      <th>x4</th>\n",
              "      <th>x5</th>\n",
              "      <th>x6</th>\n",
              "      <th>x7</th>\n",
              "      <th>x8</th>\n",
              "      <th>x9</th>\n",
              "      <th>...</th>\n",
              "      <th>x11</th>\n",
              "      <th>x12</th>\n",
              "      <th>x13</th>\n",
              "      <th>x14</th>\n",
              "      <th>x15</th>\n",
              "      <th>x16</th>\n",
              "      <th>x17</th>\n",
              "      <th>x18</th>\n",
              "      <th>x19</th>\n",
              "      <th>x20</th>\n",
              "    </tr>\n",
              "  </thead>\n",
              "  <tbody>\n",
              "    <tr>\n",
              "      <th>0</th>\n",
              "      <td>0.0</td>\n",
              "      <td>2.444</td>\n",
              "      <td>-2.329</td>\n",
              "      <td>1.478</td>\n",
              "      <td>-0.728</td>\n",
              "      <td>-1.175</td>\n",
              "      <td>-4.542</td>\n",
              "      <td>-0.581</td>\n",
              "      <td>1.265</td>\n",
              "      <td>0.702</td>\n",
              "      <td>...</td>\n",
              "      <td>-1.273</td>\n",
              "      <td>3.469</td>\n",
              "      <td>1.151</td>\n",
              "      <td>-2.121</td>\n",
              "      <td>-1.229</td>\n",
              "      <td>4.518</td>\n",
              "      <td>1.318</td>\n",
              "      <td>-0.253</td>\n",
              "      <td>2.790</td>\n",
              "      <td>3.519</td>\n",
              "    </tr>\n",
              "    <tr>\n",
              "      <th>1</th>\n",
              "      <td>1.0</td>\n",
              "      <td>-0.584</td>\n",
              "      <td>1.923</td>\n",
              "      <td>4.892</td>\n",
              "      <td>-0.281</td>\n",
              "      <td>-2.749</td>\n",
              "      <td>0.955</td>\n",
              "      <td>-3.017</td>\n",
              "      <td>-1.150</td>\n",
              "      <td>3.130</td>\n",
              "      <td>...</td>\n",
              "      <td>-4.394</td>\n",
              "      <td>-2.225</td>\n",
              "      <td>0.792</td>\n",
              "      <td>-1.083</td>\n",
              "      <td>-2.672</td>\n",
              "      <td>0.759</td>\n",
              "      <td>1.118</td>\n",
              "      <td>-0.069</td>\n",
              "      <td>6.413</td>\n",
              "      <td>-1.608</td>\n",
              "    </tr>\n",
              "    <tr>\n",
              "      <th>2</th>\n",
              "      <td>2.0</td>\n",
              "      <td>-2.587</td>\n",
              "      <td>1.851</td>\n",
              "      <td>-0.028</td>\n",
              "      <td>-4.569</td>\n",
              "      <td>-2.763</td>\n",
              "      <td>-0.180</td>\n",
              "      <td>1.691</td>\n",
              "      <td>-3.493</td>\n",
              "      <td>-1.696</td>\n",
              "      <td>...</td>\n",
              "      <td>-4.444</td>\n",
              "      <td>2.828</td>\n",
              "      <td>0.271</td>\n",
              "      <td>0.108</td>\n",
              "      <td>0.154</td>\n",
              "      <td>0.671</td>\n",
              "      <td>-0.467</td>\n",
              "      <td>-1.908</td>\n",
              "      <td>3.769</td>\n",
              "      <td>-2.186</td>\n",
              "    </tr>\n",
              "  </tbody>\n",
              "</table>\n",
              "<p>3 rows × 21 columns</p>\n",
              "</div>\n",
              "    <div class=\"colab-df-buttons\">\n",
              "\n",
              "  <div class=\"colab-df-container\">\n",
              "    <button class=\"colab-df-convert\" onclick=\"convertToInteractive('df-9156f1bc-cbf7-4002-94d8-b7ed01d9c39e')\"\n",
              "            title=\"Convert this dataframe to an interactive table.\"\n",
              "            style=\"display:none;\">\n",
              "\n",
              "  <svg xmlns=\"http://www.w3.org/2000/svg\" height=\"24px\" viewBox=\"0 -960 960 960\">\n",
              "    <path d=\"M120-120v-720h720v720H120Zm60-500h600v-160H180v160Zm220 220h160v-160H400v160Zm0 220h160v-160H400v160ZM180-400h160v-160H180v160Zm440 0h160v-160H620v160ZM180-180h160v-160H180v160Zm440 0h160v-160H620v160Z\"/>\n",
              "  </svg>\n",
              "    </button>\n",
              "\n",
              "  <style>\n",
              "    .colab-df-container {\n",
              "      display:flex;\n",
              "      gap: 12px;\n",
              "    }\n",
              "\n",
              "    .colab-df-convert {\n",
              "      background-color: #E8F0FE;\n",
              "      border: none;\n",
              "      border-radius: 50%;\n",
              "      cursor: pointer;\n",
              "      display: none;\n",
              "      fill: #1967D2;\n",
              "      height: 32px;\n",
              "      padding: 0 0 0 0;\n",
              "      width: 32px;\n",
              "    }\n",
              "\n",
              "    .colab-df-convert:hover {\n",
              "      background-color: #E2EBFA;\n",
              "      box-shadow: 0px 1px 2px rgba(60, 64, 67, 0.3), 0px 1px 3px 1px rgba(60, 64, 67, 0.15);\n",
              "      fill: #174EA6;\n",
              "    }\n",
              "\n",
              "    .colab-df-buttons div {\n",
              "      margin-bottom: 4px;\n",
              "    }\n",
              "\n",
              "    [theme=dark] .colab-df-convert {\n",
              "      background-color: #3B4455;\n",
              "      fill: #D2E3FC;\n",
              "    }\n",
              "\n",
              "    [theme=dark] .colab-df-convert:hover {\n",
              "      background-color: #434B5C;\n",
              "      box-shadow: 0px 1px 3px 1px rgba(0, 0, 0, 0.15);\n",
              "      filter: drop-shadow(0px 1px 2px rgba(0, 0, 0, 0.3));\n",
              "      fill: #FFFFFF;\n",
              "    }\n",
              "  </style>\n",
              "\n",
              "    <script>\n",
              "      const buttonEl =\n",
              "        document.querySelector('#df-9156f1bc-cbf7-4002-94d8-b7ed01d9c39e button.colab-df-convert');\n",
              "      buttonEl.style.display =\n",
              "        google.colab.kernel.accessAllowed ? 'block' : 'none';\n",
              "\n",
              "      async function convertToInteractive(key) {\n",
              "        const element = document.querySelector('#df-9156f1bc-cbf7-4002-94d8-b7ed01d9c39e');\n",
              "        const dataTable =\n",
              "          await google.colab.kernel.invokeFunction('convertToInteractive',\n",
              "                                                    [key], {});\n",
              "        if (!dataTable) return;\n",
              "\n",
              "        const docLinkHtml = 'Like what you see? Visit the ' +\n",
              "          '<a target=\"_blank\" href=https://colab.research.google.com/notebooks/data_table.ipynb>data table notebook</a>'\n",
              "          + ' to learn more about interactive tables.';\n",
              "        element.innerHTML = '';\n",
              "        dataTable['output_type'] = 'display_data';\n",
              "        await google.colab.output.renderOutput(dataTable, element);\n",
              "        const docLink = document.createElement('div');\n",
              "        docLink.innerHTML = docLinkHtml;\n",
              "        element.appendChild(docLink);\n",
              "      }\n",
              "    </script>\n",
              "  </div>\n",
              "\n",
              "\n",
              "    <div id=\"df-3fa1731c-a393-4c3a-b5f6-fed5fe0ae84c\">\n",
              "      <button class=\"colab-df-quickchart\" onclick=\"quickchart('df-3fa1731c-a393-4c3a-b5f6-fed5fe0ae84c')\"\n",
              "                title=\"Suggest charts\"\n",
              "                style=\"display:none;\">\n",
              "\n",
              "<svg xmlns=\"http://www.w3.org/2000/svg\" height=\"24px\"viewBox=\"0 0 24 24\"\n",
              "     width=\"24px\">\n",
              "    <g>\n",
              "        <path d=\"M19 3H5c-1.1 0-2 .9-2 2v14c0 1.1.9 2 2 2h14c1.1 0 2-.9 2-2V5c0-1.1-.9-2-2-2zM9 17H7v-7h2v7zm4 0h-2V7h2v10zm4 0h-2v-4h2v4z\"/>\n",
              "    </g>\n",
              "</svg>\n",
              "      </button>\n",
              "\n",
              "<style>\n",
              "  .colab-df-quickchart {\n",
              "      --bg-color: #E8F0FE;\n",
              "      --fill-color: #1967D2;\n",
              "      --hover-bg-color: #E2EBFA;\n",
              "      --hover-fill-color: #174EA6;\n",
              "      --disabled-fill-color: #AAA;\n",
              "      --disabled-bg-color: #DDD;\n",
              "  }\n",
              "\n",
              "  [theme=dark] .colab-df-quickchart {\n",
              "      --bg-color: #3B4455;\n",
              "      --fill-color: #D2E3FC;\n",
              "      --hover-bg-color: #434B5C;\n",
              "      --hover-fill-color: #FFFFFF;\n",
              "      --disabled-bg-color: #3B4455;\n",
              "      --disabled-fill-color: #666;\n",
              "  }\n",
              "\n",
              "  .colab-df-quickchart {\n",
              "    background-color: var(--bg-color);\n",
              "    border: none;\n",
              "    border-radius: 50%;\n",
              "    cursor: pointer;\n",
              "    display: none;\n",
              "    fill: var(--fill-color);\n",
              "    height: 32px;\n",
              "    padding: 0;\n",
              "    width: 32px;\n",
              "  }\n",
              "\n",
              "  .colab-df-quickchart:hover {\n",
              "    background-color: var(--hover-bg-color);\n",
              "    box-shadow: 0 1px 2px rgba(60, 64, 67, 0.3), 0 1px 3px 1px rgba(60, 64, 67, 0.15);\n",
              "    fill: var(--button-hover-fill-color);\n",
              "  }\n",
              "\n",
              "  .colab-df-quickchart-complete:disabled,\n",
              "  .colab-df-quickchart-complete:disabled:hover {\n",
              "    background-color: var(--disabled-bg-color);\n",
              "    fill: var(--disabled-fill-color);\n",
              "    box-shadow: none;\n",
              "  }\n",
              "\n",
              "  .colab-df-spinner {\n",
              "    border: 2px solid var(--fill-color);\n",
              "    border-color: transparent;\n",
              "    border-bottom-color: var(--fill-color);\n",
              "    animation:\n",
              "      spin 1s steps(1) infinite;\n",
              "  }\n",
              "\n",
              "  @keyframes spin {\n",
              "    0% {\n",
              "      border-color: transparent;\n",
              "      border-bottom-color: var(--fill-color);\n",
              "      border-left-color: var(--fill-color);\n",
              "    }\n",
              "    20% {\n",
              "      border-color: transparent;\n",
              "      border-left-color: var(--fill-color);\n",
              "      border-top-color: var(--fill-color);\n",
              "    }\n",
              "    30% {\n",
              "      border-color: transparent;\n",
              "      border-left-color: var(--fill-color);\n",
              "      border-top-color: var(--fill-color);\n",
              "      border-right-color: var(--fill-color);\n",
              "    }\n",
              "    40% {\n",
              "      border-color: transparent;\n",
              "      border-right-color: var(--fill-color);\n",
              "      border-top-color: var(--fill-color);\n",
              "    }\n",
              "    60% {\n",
              "      border-color: transparent;\n",
              "      border-right-color: var(--fill-color);\n",
              "    }\n",
              "    80% {\n",
              "      border-color: transparent;\n",
              "      border-right-color: var(--fill-color);\n",
              "      border-bottom-color: var(--fill-color);\n",
              "    }\n",
              "    90% {\n",
              "      border-color: transparent;\n",
              "      border-bottom-color: var(--fill-color);\n",
              "    }\n",
              "  }\n",
              "</style>\n",
              "\n",
              "      <script>\n",
              "        async function quickchart(key) {\n",
              "          const quickchartButtonEl =\n",
              "            document.querySelector('#' + key + ' button');\n",
              "          quickchartButtonEl.disabled = true;  // To prevent multiple clicks.\n",
              "          quickchartButtonEl.classList.add('colab-df-spinner');\n",
              "          try {\n",
              "            const charts = await google.colab.kernel.invokeFunction(\n",
              "                'suggestCharts', [key], {});\n",
              "          } catch (error) {\n",
              "            console.error('Error during call to suggestCharts:', error);\n",
              "          }\n",
              "          quickchartButtonEl.classList.remove('colab-df-spinner');\n",
              "          quickchartButtonEl.classList.add('colab-df-quickchart-complete');\n",
              "        }\n",
              "        (() => {\n",
              "          let quickchartButtonEl =\n",
              "            document.querySelector('#df-3fa1731c-a393-4c3a-b5f6-fed5fe0ae84c button');\n",
              "          quickchartButtonEl.style.display =\n",
              "            google.colab.kernel.accessAllowed ? 'block' : 'none';\n",
              "        })();\n",
              "      </script>\n",
              "    </div>\n",
              "\n",
              "    </div>\n",
              "  </div>\n"
            ],
            "application/vnd.google.colaboratory.intrinsic+json": {
              "type": "dataframe",
              "variable_name": "train"
            }
          },
          "metadata": {},
          "execution_count": 4
        }
      ]
    },
    {
      "cell_type": "code",
      "metadata": {
        "colab": {
          "base_uri": "https://localhost:8080/",
          "height": 179
        },
        "id": "Sqy43wrss_QW",
        "outputId": "5ef05919-9918-4304-fabf-69e55a987fc8"
      },
      "source": [
        "print('Last 2 rows in new:')\n",
        "new.tail(2) # display last 2 unlabeled samples"
      ],
      "execution_count": 5,
      "outputs": [
        {
          "output_type": "stream",
          "name": "stdout",
          "text": [
            "Last 2 rows in new:\n"
          ]
        },
        {
          "output_type": "execute_result",
          "data": {
            "text/plain": [
              "        ID     x1     x2     x3     x4     x5     x6     x7     x8     x9  \\\n",
              "28  ID_029 -2.839 -2.248  2.086 -5.580 -2.757  0.161  2.322 -1.600  1.542   \n",
              "29  ID_030 -0.803  2.870 -0.363 -3.411 -1.058 -0.139 -1.646 -1.414  1.927   \n",
              "\n",
              "    ...    x11    x12    x13    x14    x15    x16    x17    x18    x19    x20  \n",
              "28  ...  2.491  0.411 -2.039 -3.103 -0.302 -0.018 -3.063 -2.129 -2.152 -5.939  \n",
              "29  ... -1.430  3.216 -2.766 -0.612 -4.650 -3.347 -3.290 -1.257 -3.598 -0.109  \n",
              "\n",
              "[2 rows x 21 columns]"
            ],
            "text/html": [
              "\n",
              "  <div id=\"df-24a3edc8-707e-45ae-bdad-90837cc23ce2\" class=\"colab-df-container\">\n",
              "    <div>\n",
              "<style scoped>\n",
              "    .dataframe tbody tr th:only-of-type {\n",
              "        vertical-align: middle;\n",
              "    }\n",
              "\n",
              "    .dataframe tbody tr th {\n",
              "        vertical-align: top;\n",
              "    }\n",
              "\n",
              "    .dataframe thead th {\n",
              "        text-align: right;\n",
              "    }\n",
              "</style>\n",
              "<table border=\"1\" class=\"dataframe\">\n",
              "  <thead>\n",
              "    <tr style=\"text-align: right;\">\n",
              "      <th></th>\n",
              "      <th>ID</th>\n",
              "      <th>x1</th>\n",
              "      <th>x2</th>\n",
              "      <th>x3</th>\n",
              "      <th>x4</th>\n",
              "      <th>x5</th>\n",
              "      <th>x6</th>\n",
              "      <th>x7</th>\n",
              "      <th>x8</th>\n",
              "      <th>x9</th>\n",
              "      <th>...</th>\n",
              "      <th>x11</th>\n",
              "      <th>x12</th>\n",
              "      <th>x13</th>\n",
              "      <th>x14</th>\n",
              "      <th>x15</th>\n",
              "      <th>x16</th>\n",
              "      <th>x17</th>\n",
              "      <th>x18</th>\n",
              "      <th>x19</th>\n",
              "      <th>x20</th>\n",
              "    </tr>\n",
              "  </thead>\n",
              "  <tbody>\n",
              "    <tr>\n",
              "      <th>28</th>\n",
              "      <td>ID_029</td>\n",
              "      <td>-2.839</td>\n",
              "      <td>-2.248</td>\n",
              "      <td>2.086</td>\n",
              "      <td>-5.580</td>\n",
              "      <td>-2.757</td>\n",
              "      <td>0.161</td>\n",
              "      <td>2.322</td>\n",
              "      <td>-1.600</td>\n",
              "      <td>1.542</td>\n",
              "      <td>...</td>\n",
              "      <td>2.491</td>\n",
              "      <td>0.411</td>\n",
              "      <td>-2.039</td>\n",
              "      <td>-3.103</td>\n",
              "      <td>-0.302</td>\n",
              "      <td>-0.018</td>\n",
              "      <td>-3.063</td>\n",
              "      <td>-2.129</td>\n",
              "      <td>-2.152</td>\n",
              "      <td>-5.939</td>\n",
              "    </tr>\n",
              "    <tr>\n",
              "      <th>29</th>\n",
              "      <td>ID_030</td>\n",
              "      <td>-0.803</td>\n",
              "      <td>2.870</td>\n",
              "      <td>-0.363</td>\n",
              "      <td>-3.411</td>\n",
              "      <td>-1.058</td>\n",
              "      <td>-0.139</td>\n",
              "      <td>-1.646</td>\n",
              "      <td>-1.414</td>\n",
              "      <td>1.927</td>\n",
              "      <td>...</td>\n",
              "      <td>-1.430</td>\n",
              "      <td>3.216</td>\n",
              "      <td>-2.766</td>\n",
              "      <td>-0.612</td>\n",
              "      <td>-4.650</td>\n",
              "      <td>-3.347</td>\n",
              "      <td>-3.290</td>\n",
              "      <td>-1.257</td>\n",
              "      <td>-3.598</td>\n",
              "      <td>-0.109</td>\n",
              "    </tr>\n",
              "  </tbody>\n",
              "</table>\n",
              "<p>2 rows × 21 columns</p>\n",
              "</div>\n",
              "    <div class=\"colab-df-buttons\">\n",
              "\n",
              "  <div class=\"colab-df-container\">\n",
              "    <button class=\"colab-df-convert\" onclick=\"convertToInteractive('df-24a3edc8-707e-45ae-bdad-90837cc23ce2')\"\n",
              "            title=\"Convert this dataframe to an interactive table.\"\n",
              "            style=\"display:none;\">\n",
              "\n",
              "  <svg xmlns=\"http://www.w3.org/2000/svg\" height=\"24px\" viewBox=\"0 -960 960 960\">\n",
              "    <path d=\"M120-120v-720h720v720H120Zm60-500h600v-160H180v160Zm220 220h160v-160H400v160Zm0 220h160v-160H400v160ZM180-400h160v-160H180v160Zm440 0h160v-160H620v160ZM180-180h160v-160H180v160Zm440 0h160v-160H620v160Z\"/>\n",
              "  </svg>\n",
              "    </button>\n",
              "\n",
              "  <style>\n",
              "    .colab-df-container {\n",
              "      display:flex;\n",
              "      gap: 12px;\n",
              "    }\n",
              "\n",
              "    .colab-df-convert {\n",
              "      background-color: #E8F0FE;\n",
              "      border: none;\n",
              "      border-radius: 50%;\n",
              "      cursor: pointer;\n",
              "      display: none;\n",
              "      fill: #1967D2;\n",
              "      height: 32px;\n",
              "      padding: 0 0 0 0;\n",
              "      width: 32px;\n",
              "    }\n",
              "\n",
              "    .colab-df-convert:hover {\n",
              "      background-color: #E2EBFA;\n",
              "      box-shadow: 0px 1px 2px rgba(60, 64, 67, 0.3), 0px 1px 3px 1px rgba(60, 64, 67, 0.15);\n",
              "      fill: #174EA6;\n",
              "    }\n",
              "\n",
              "    .colab-df-buttons div {\n",
              "      margin-bottom: 4px;\n",
              "    }\n",
              "\n",
              "    [theme=dark] .colab-df-convert {\n",
              "      background-color: #3B4455;\n",
              "      fill: #D2E3FC;\n",
              "    }\n",
              "\n",
              "    [theme=dark] .colab-df-convert:hover {\n",
              "      background-color: #434B5C;\n",
              "      box-shadow: 0px 1px 3px 1px rgba(0, 0, 0, 0.15);\n",
              "      filter: drop-shadow(0px 1px 2px rgba(0, 0, 0, 0.3));\n",
              "      fill: #FFFFFF;\n",
              "    }\n",
              "  </style>\n",
              "\n",
              "    <script>\n",
              "      const buttonEl =\n",
              "        document.querySelector('#df-24a3edc8-707e-45ae-bdad-90837cc23ce2 button.colab-df-convert');\n",
              "      buttonEl.style.display =\n",
              "        google.colab.kernel.accessAllowed ? 'block' : 'none';\n",
              "\n",
              "      async function convertToInteractive(key) {\n",
              "        const element = document.querySelector('#df-24a3edc8-707e-45ae-bdad-90837cc23ce2');\n",
              "        const dataTable =\n",
              "          await google.colab.kernel.invokeFunction('convertToInteractive',\n",
              "                                                    [key], {});\n",
              "        if (!dataTable) return;\n",
              "\n",
              "        const docLinkHtml = 'Like what you see? Visit the ' +\n",
              "          '<a target=\"_blank\" href=https://colab.research.google.com/notebooks/data_table.ipynb>data table notebook</a>'\n",
              "          + ' to learn more about interactive tables.';\n",
              "        element.innerHTML = '';\n",
              "        dataTable['output_type'] = 'display_data';\n",
              "        await google.colab.output.renderOutput(dataTable, element);\n",
              "        const docLink = document.createElement('div');\n",
              "        docLink.innerHTML = docLinkHtml;\n",
              "        element.appendChild(docLink);\n",
              "      }\n",
              "    </script>\n",
              "  </div>\n",
              "\n",
              "\n",
              "    <div id=\"df-a9c98fe3-f0f0-4bbf-8dcc-8077cf463c66\">\n",
              "      <button class=\"colab-df-quickchart\" onclick=\"quickchart('df-a9c98fe3-f0f0-4bbf-8dcc-8077cf463c66')\"\n",
              "                title=\"Suggest charts\"\n",
              "                style=\"display:none;\">\n",
              "\n",
              "<svg xmlns=\"http://www.w3.org/2000/svg\" height=\"24px\"viewBox=\"0 0 24 24\"\n",
              "     width=\"24px\">\n",
              "    <g>\n",
              "        <path d=\"M19 3H5c-1.1 0-2 .9-2 2v14c0 1.1.9 2 2 2h14c1.1 0 2-.9 2-2V5c0-1.1-.9-2-2-2zM9 17H7v-7h2v7zm4 0h-2V7h2v10zm4 0h-2v-4h2v4z\"/>\n",
              "    </g>\n",
              "</svg>\n",
              "      </button>\n",
              "\n",
              "<style>\n",
              "  .colab-df-quickchart {\n",
              "      --bg-color: #E8F0FE;\n",
              "      --fill-color: #1967D2;\n",
              "      --hover-bg-color: #E2EBFA;\n",
              "      --hover-fill-color: #174EA6;\n",
              "      --disabled-fill-color: #AAA;\n",
              "      --disabled-bg-color: #DDD;\n",
              "  }\n",
              "\n",
              "  [theme=dark] .colab-df-quickchart {\n",
              "      --bg-color: #3B4455;\n",
              "      --fill-color: #D2E3FC;\n",
              "      --hover-bg-color: #434B5C;\n",
              "      --hover-fill-color: #FFFFFF;\n",
              "      --disabled-bg-color: #3B4455;\n",
              "      --disabled-fill-color: #666;\n",
              "  }\n",
              "\n",
              "  .colab-df-quickchart {\n",
              "    background-color: var(--bg-color);\n",
              "    border: none;\n",
              "    border-radius: 50%;\n",
              "    cursor: pointer;\n",
              "    display: none;\n",
              "    fill: var(--fill-color);\n",
              "    height: 32px;\n",
              "    padding: 0;\n",
              "    width: 32px;\n",
              "  }\n",
              "\n",
              "  .colab-df-quickchart:hover {\n",
              "    background-color: var(--hover-bg-color);\n",
              "    box-shadow: 0 1px 2px rgba(60, 64, 67, 0.3), 0 1px 3px 1px rgba(60, 64, 67, 0.15);\n",
              "    fill: var(--button-hover-fill-color);\n",
              "  }\n",
              "\n",
              "  .colab-df-quickchart-complete:disabled,\n",
              "  .colab-df-quickchart-complete:disabled:hover {\n",
              "    background-color: var(--disabled-bg-color);\n",
              "    fill: var(--disabled-fill-color);\n",
              "    box-shadow: none;\n",
              "  }\n",
              "\n",
              "  .colab-df-spinner {\n",
              "    border: 2px solid var(--fill-color);\n",
              "    border-color: transparent;\n",
              "    border-bottom-color: var(--fill-color);\n",
              "    animation:\n",
              "      spin 1s steps(1) infinite;\n",
              "  }\n",
              "\n",
              "  @keyframes spin {\n",
              "    0% {\n",
              "      border-color: transparent;\n",
              "      border-bottom-color: var(--fill-color);\n",
              "      border-left-color: var(--fill-color);\n",
              "    }\n",
              "    20% {\n",
              "      border-color: transparent;\n",
              "      border-left-color: var(--fill-color);\n",
              "      border-top-color: var(--fill-color);\n",
              "    }\n",
              "    30% {\n",
              "      border-color: transparent;\n",
              "      border-left-color: var(--fill-color);\n",
              "      border-top-color: var(--fill-color);\n",
              "      border-right-color: var(--fill-color);\n",
              "    }\n",
              "    40% {\n",
              "      border-color: transparent;\n",
              "      border-right-color: var(--fill-color);\n",
              "      border-top-color: var(--fill-color);\n",
              "    }\n",
              "    60% {\n",
              "      border-color: transparent;\n",
              "      border-right-color: var(--fill-color);\n",
              "    }\n",
              "    80% {\n",
              "      border-color: transparent;\n",
              "      border-right-color: var(--fill-color);\n",
              "      border-bottom-color: var(--fill-color);\n",
              "    }\n",
              "    90% {\n",
              "      border-color: transparent;\n",
              "      border-bottom-color: var(--fill-color);\n",
              "    }\n",
              "  }\n",
              "</style>\n",
              "\n",
              "      <script>\n",
              "        async function quickchart(key) {\n",
              "          const quickchartButtonEl =\n",
              "            document.querySelector('#' + key + ' button');\n",
              "          quickchartButtonEl.disabled = true;  // To prevent multiple clicks.\n",
              "          quickchartButtonEl.classList.add('colab-df-spinner');\n",
              "          try {\n",
              "            const charts = await google.colab.kernel.invokeFunction(\n",
              "                'suggestCharts', [key], {});\n",
              "          } catch (error) {\n",
              "            console.error('Error during call to suggestCharts:', error);\n",
              "          }\n",
              "          quickchartButtonEl.classList.remove('colab-df-spinner');\n",
              "          quickchartButtonEl.classList.add('colab-df-quickchart-complete');\n",
              "        }\n",
              "        (() => {\n",
              "          let quickchartButtonEl =\n",
              "            document.querySelector('#df-a9c98fe3-f0f0-4bbf-8dcc-8077cf463c66 button');\n",
              "          quickchartButtonEl.style.display =\n",
              "            google.colab.kernel.accessAllowed ? 'block' : 'none';\n",
              "        })();\n",
              "      </script>\n",
              "    </div>\n",
              "\n",
              "    </div>\n",
              "  </div>\n"
            ],
            "application/vnd.google.colaboratory.intrinsic+json": {
              "type": "dataframe"
            }
          },
          "metadata": {},
          "execution_count": 5
        }
      ]
    },
    {
      "cell_type": "markdown",
      "metadata": {
        "id": "Cy4SdaiY9lFo"
      },
      "source": [
        "### Specify inputs and outputs\n",
        "- **features**: List of the 16 input feature names\n",
        "- **X_train**: $8000 \\times 20$ array containing input values for training samples.\n",
        "- **y_train**: Array containing labels for the 8000 training samples.\n",
        "- **X_test**: $2000 \\times 20$ array containing input values for test samples.\n",
        "- **y_test**: Array containing labels for the 2000 training samples.\n",
        "- **X_new**: $30 \\times 20$ array containing input values for unlabeled samples.\n",
        "\n",
        "\n",
        "\n",
        "\n"
      ]
    },
    {
      "cell_type": "code",
      "metadata": {
        "colab": {
          "base_uri": "https://localhost:8080/"
        },
        "id": "GJ8ohEGf-Mi8",
        "outputId": "8e872902-00ef-45ca-bdd9-0995daf52548"
      },
      "source": [
        "features = list(train)[1:] # all but the first column header are feature names\n",
        "print(\"features:\", features)\n",
        "X_train, X_test, X_new = train[features], test[features], new[features]\n",
        "y_train, y_test = train.y, test.y\n",
        "print('Shapes:')\n",
        "print(f'X_train: {X_train.shape}, X_test: {X_test.shape}, X_new: {X_new.shape}')\n",
        "print(f'y_train: {y_train.shape}, y_test: {y_test.shape}')"
      ],
      "execution_count": 6,
      "outputs": [
        {
          "output_type": "stream",
          "name": "stdout",
          "text": [
            "features: ['x1', 'x2', 'x3', 'x4', 'x5', 'x6', 'x7', 'x8', 'x9', 'x10', 'x11', 'x12', 'x13', 'x14', 'x15', 'x16', 'x17', 'x18', 'x19', 'x20']\n",
            "Shapes:\n",
            "X_train: (8000, 20), X_test: (2000, 20), X_new: (30, 20)\n",
            "y_train: (8000,), y_test: (2000,)\n"
          ]
        }
      ]
    },
    {
      "cell_type": "markdown",
      "metadata": {
        "id": "DnxBpRlZ-5I9"
      },
      "source": [
        "## Evaluate models using *k*-fold cross-validation\n",
        "We shall use **4**-fold cross-validation so that 6000 of the 8000 training samples are used for training and the remaining 2000 samples are used for validation in each fold. The mean cross-validation accuracy for each model with chosen hyper-parameters on the 4 runs will be computed using the command:\n",
        "- **score = cross_val_score(model, X_train, y_train, cv=4).mean()**\n",
        "> - model: classifier object with specified hyperparameters\n",
        "> - X_train, y_train: Inputs and output labels for training\n",
        "> - cv: number of folds in cross-validation\n",
        "> - mean(): computes mean accuracy from the *cv* runs\n",
        "\n",
        "You can look up the documentation for each classifier, change hyper-parameter values, and observe the results. We shall also observe the time it takes to train and evaluate each model 4 times in this process.\n"
      ]
    },
    {
      "cell_type": "markdown",
      "metadata": {
        "id": "5txUT58tqyFa"
      },
      "source": [
        "### GaussianNB\n",
        "\n",
        "https://scikit-learn.org/stable/modules/generated/sklearn.naive_bayes.GaussianNB.html"
      ]
    },
    {
      "cell_type": "code",
      "metadata": {
        "colab": {
          "base_uri": "https://localhost:8080/"
        },
        "id": "NrfDQpqMq8Jr",
        "outputId": "25dde8ae-d6c2-4539-9c01-b2d72dd05362"
      },
      "source": [
        "%%time\n",
        "model = GaussianNB() # change hyperparameters as desired\n",
        "score = cross_val_score(model, X_train, y_train, cv=4).mean() # mean cross-validation accuracy\n",
        "print(f'Mean cross-validation accuracy = {score:0.4f}')"
      ],
      "execution_count": 7,
      "outputs": [
        {
          "output_type": "stream",
          "name": "stdout",
          "text": [
            "Mean cross-validation accuracy = 0.8587\n",
            "CPU times: user 53.5 ms, sys: 1.99 ms, total: 55.5 ms\n",
            "Wall time: 66.3 ms\n"
          ]
        }
      ]
    },
    {
      "cell_type": "markdown",
      "metadata": {
        "id": "L61SWfGztPUz"
      },
      "source": [
        "### DecisionTreeClassifier\n",
        "\n",
        "https://scikit-learn.org/stable/modules/generated/sklearn.tree.DecisionTreeClassifier.html"
      ]
    },
    {
      "cell_type": "code",
      "metadata": {
        "colab": {
          "base_uri": "https://localhost:8080/"
        },
        "id": "V6IlKW1ZKFrq",
        "outputId": "15564101-ee22-4ee9-a658-8db89bf54c0c"
      },
      "source": [
        "%%time\n",
        "model = DecisionTreeClassifier(max_leaf_nodes=10) # change hyperparameters as desired\n",
        "score = cross_val_score(model, X_train, y_train, cv=4).mean() # mean cross-validation accuracy\n",
        "print(f'Mean cross-validation accuracy = {score:0.4f}')"
      ],
      "execution_count": 8,
      "outputs": [
        {
          "output_type": "stream",
          "name": "stdout",
          "text": [
            "Mean cross-validation accuracy = 0.6831\n",
            "CPU times: user 367 ms, sys: 600 µs, total: 367 ms\n",
            "Wall time: 368 ms\n"
          ]
        }
      ]
    },
    {
      "cell_type": "markdown",
      "metadata": {
        "id": "dw2J3q89Kq8u"
      },
      "source": [
        "### RandomForestClassifier\n",
        "\n",
        "https://scikit-learn.org/stable/modules/generated/sklearn.ensemble.RandomForestClassifier.html"
      ]
    },
    {
      "cell_type": "code",
      "metadata": {
        "colab": {
          "base_uri": "https://localhost:8080/"
        },
        "id": "Bg1tRS0KK4zl",
        "outputId": "00009a6e-1022-42e4-d4e2-f86ea5f267a9"
      },
      "source": [
        "%%time\n",
        "model = RandomForestClassifier(n_estimators=100) # change hyperparameters as desired\n",
        "score = cross_val_score(model, X_train, y_train, cv=4).mean() # mean cross-validation accuracy\n",
        "print(f'Mean cross-validation accuracy = {score:0.4f}')"
      ],
      "execution_count": 9,
      "outputs": [
        {
          "output_type": "stream",
          "name": "stdout",
          "text": [
            "Mean cross-validation accuracy = 0.9414\n",
            "CPU times: user 12.5 s, sys: 59.5 ms, total: 12.6 s\n",
            "Wall time: 12.6 s\n"
          ]
        }
      ]
    },
    {
      "cell_type": "markdown",
      "metadata": {
        "id": "d86dfu7ducAE"
      },
      "source": [
        "### ExtraTreesClassifier\n",
        "\n",
        "https://scikit-learn.org/stable/modules/generated/sklearn.ensemble.ExtraTreesClassifier.html"
      ]
    },
    {
      "cell_type": "code",
      "metadata": {
        "colab": {
          "base_uri": "https://localhost:8080/"
        },
        "id": "emyzWlJyKUSx",
        "outputId": "2e3a07cd-dc29-482a-f2c9-9921c7c17774"
      },
      "source": [
        "%%time\n",
        "model = ExtraTreesClassifier(n_estimators=100) # change hyperparameters as desired\n",
        "score = cross_val_score(model, X_train, y_train, cv=4).mean() # mean cross-validation accuracy\n",
        "print(f'Mean cross-validation accuracy = {score:0.4f}')"
      ],
      "execution_count": 10,
      "outputs": [
        {
          "output_type": "stream",
          "name": "stdout",
          "text": [
            "Mean cross-validation accuracy = 0.9584\n",
            "CPU times: user 3.11 s, sys: 18.5 ms, total: 3.13 s\n",
            "Wall time: 3.12 s\n"
          ]
        }
      ]
    },
    {
      "cell_type": "markdown",
      "metadata": {
        "id": "LRG62pOxwrQT"
      },
      "source": [
        "### KNeighborsClassifier\n",
        "\n",
        "https://scikit-learn.org/stable/modules/generated/sklearn.neighbors.KNeighborsClassifier.html"
      ]
    },
    {
      "cell_type": "code",
      "metadata": {
        "colab": {
          "base_uri": "https://localhost:8080/"
        },
        "id": "bXltDGqnLHmH",
        "outputId": "1e415da4-ede8-43f3-d805-e82ab6b5ec3e"
      },
      "source": [
        "%%time\n",
        "model = KNeighborsClassifier(n_neighbors=9, algorithm='brute') # change hyperparameters as desired\n",
        "score = cross_val_score(model, X_train, y_train, cv=4).mean() # mean cross-validation accuracy\n",
        "print(f'Mean cross-validation accuracy = {score:0.4f}')"
      ],
      "execution_count": 11,
      "outputs": [
        {
          "output_type": "stream",
          "name": "stdout",
          "text": [
            "Mean cross-validation accuracy = 0.9759\n",
            "CPU times: user 669 ms, sys: 19.1 ms, total: 688 ms\n",
            "Wall time: 703 ms\n"
          ]
        }
      ]
    },
    {
      "cell_type": "markdown",
      "metadata": {
        "id": "UlOltPrLLrug"
      },
      "source": [
        "### LogisticRegression\n",
        "\n",
        "https://scikit-learn.org/stable/modules/generated/sklearn.linear_model.LogisticRegression.html"
      ]
    },
    {
      "cell_type": "code",
      "metadata": {
        "colab": {
          "base_uri": "https://localhost:8080/"
        },
        "id": "bCHYnbyHL3SH",
        "outputId": "b839ec39-dd71-4fb3-a67f-c5a175d0d71e"
      },
      "source": [
        "%%time\n",
        "model = LogisticRegression(max_iter=10000) # change hyperparameters as desired\n",
        "score = cross_val_score(model, X_train, y_train, cv=4).mean() # mean cross-validation accuracy\n",
        "print(f'Mean cross-validation accuracy = {score:0.4f}')"
      ],
      "execution_count": 12,
      "outputs": [
        {
          "output_type": "stream",
          "name": "stdout",
          "text": [
            "Mean cross-validation accuracy = 0.8680\n",
            "CPU times: user 406 ms, sys: 2.91 ms, total: 409 ms\n",
            "Wall time: 222 ms\n"
          ]
        }
      ]
    },
    {
      "cell_type": "markdown",
      "metadata": {
        "id": "A-iTOgGMMPQN"
      },
      "source": [
        "### SVC\n",
        "\n",
        "https://scikit-learn.org/stable/modules/generated/sklearn.svm.SVC.html"
      ]
    },
    {
      "cell_type": "code",
      "metadata": {
        "colab": {
          "base_uri": "https://localhost:8080/"
        },
        "id": "dABpGY4CMZEx",
        "outputId": "4fc16fe8-cc90-48f1-c4dd-8bf57fb4e5a3"
      },
      "source": [
        "%%time\n",
        "model = SVC(C=1.0) # change hyperparameters as desired\n",
        "score = cross_val_score(model, X_train, y_train, cv=4).mean() # mean cross-validation accuracy\n",
        "print(f'Mean cross-validation accuracy = {score:0.4f}')"
      ],
      "execution_count": 13,
      "outputs": [
        {
          "output_type": "stream",
          "name": "stdout",
          "text": [
            "Mean cross-validation accuracy = 0.9794\n",
            "CPU times: user 3.2 s, sys: 5.04 ms, total: 3.2 s\n",
            "Wall time: 3.25 s\n"
          ]
        }
      ]
    },
    {
      "cell_type": "markdown",
      "metadata": {
        "id": "HRyD_Sx_5UQa"
      },
      "source": [
        "### MLPClassifier\n",
        "https://scikit-learn.org/stable/modules/generated/sklearn.neural_network.MLPClassifier.html"
      ]
    },
    {
      "cell_type": "code",
      "metadata": {
        "colab": {
          "base_uri": "https://localhost:8080/"
        },
        "id": "IdJ-K_USNDxe",
        "outputId": "79445fab-f188-4e62-b8a5-df2a9516026b"
      },
      "source": [
        "%%time\n",
        "model = MLPClassifier(hidden_layer_sizes=100, max_iter=1000) # change hyperparameters as desired\n",
        "score = cross_val_score(model, X_train, y_train, cv=4).mean() # mean cross-validation accuracy\n",
        "print(f'Mean cross-validation accuracy = {score:0.4f}')"
      ],
      "execution_count": 14,
      "outputs": [
        {
          "output_type": "stream",
          "name": "stdout",
          "text": [
            "Mean cross-validation accuracy = 0.9647\n",
            "CPU times: user 26.7 s, sys: 56.6 ms, total: 26.8 s\n",
            "Wall time: 26.6 s\n"
          ]
        }
      ]
    },
    {
      "cell_type": "markdown",
      "metadata": {
        "id": "C2SCLsZcC2MA"
      },
      "source": [
        "## Select a good model\n",
        "Since a Support Vector Classifier has high cross-validation accuracy, we shall search for good hyper-parameter values for a SVC model using cross-validation. In this example I shall vary the regularization parameter C."
      ]
    },
    {
      "cell_type": "code",
      "metadata": {
        "colab": {
          "base_uri": "https://localhost:8080/"
        },
        "id": "ic1FrpZVNkCL",
        "outputId": "b7c82aee-db28-4268-8c72-540ecd2562f7"
      },
      "source": [
        "for c in [0.01, 0.1]: # number of rules\n",
        "    model = SVC(C=c)\n",
        "    score = cross_val_score(model, X_train, y_train, cv=4).mean() # mean cross-validation accuracy\n",
        "    print(f'Mean cross-validation accuracy with C = {c:0.1f} = {score:0.4f}')"
      ],
      "execution_count": 18,
      "outputs": [
        {
          "output_type": "stream",
          "name": "stdout",
          "text": [
            "Mean cross-validation accuracy with C = 0.0 = 0.9215\n",
            "Mean cross-validation accuracy with C = 0.1 = 0.9635\n"
          ]
        }
      ]
    },
    {
      "cell_type": "markdown",
      "metadata": {
        "id": "prBLKKoqW30p"
      },
      "source": [
        "For this classification problem, we shall choose:\n",
        "- SVC(C=1.0)"
      ]
    },
    {
      "cell_type": "code",
      "metadata": {
        "colab": {
          "base_uri": "https://localhost:8080/"
        },
        "id": "-GSe63ssXaS4",
        "outputId": "258ca6ab-6fc6-4d30-a624-48b456e61101"
      },
      "source": [
        "chosen_model = SVC(C=1.0) # chosen model\n",
        "print(chosen_model) # display model parameters"
      ],
      "execution_count": 19,
      "outputs": [
        {
          "output_type": "stream",
          "name": "stdout",
          "text": [
            "SVC()\n"
          ]
        }
      ]
    },
    {
      "cell_type": "markdown",
      "metadata": {
        "id": "mObRT95gXrzZ"
      },
      "source": [
        "## Train and test selected model"
      ]
    },
    {
      "cell_type": "code",
      "metadata": {
        "colab": {
          "base_uri": "https://localhost:8080/"
        },
        "id": "RZ_fqywZXw83",
        "outputId": "5f2ed099-6ac2-44c2-b35b-7cb35bb52f6d"
      },
      "source": [
        "%%time\n",
        "chosen_model.fit(X_train, y_train) # train selected model on ALL training examples\n",
        "predicted = chosen_model.predict(X_test) # predicted churn for test examples\n",
        "acc = accuracy_score(y_test, predicted) # accuracy on test samples\n",
        "print(f'Accuracy on test samples = {acc:0.4f}') # show test accuracy\n",
        "print(\"Classification report on test samples:\") # for precision, recall, F1-score\n",
        "print(classification_report(y_test, predicted, digits=4)) # rounded to 4 decimal places"
      ],
      "execution_count": 20,
      "outputs": [
        {
          "output_type": "stream",
          "name": "stdout",
          "text": [
            "Accuracy on test samples = 0.9770\n",
            "Classification report on test samples:\n",
            "              precision    recall  f1-score   support\n",
            "\n",
            "         0.0     0.9819    0.9716    0.9767       670\n",
            "         1.0     0.9810    0.9810    0.9810       633\n",
            "         2.0     0.9688    0.9785    0.9736       697\n",
            "\n",
            "    accuracy                         0.9770      2000\n",
            "   macro avg     0.9772    0.9771    0.9771      2000\n",
            "weighted avg     0.9770    0.9770    0.9770      2000\n",
            "\n",
            "CPU times: user 1.53 s, sys: 4.46 ms, total: 1.53 s\n",
            "Wall time: 2.88 s\n"
          ]
        }
      ]
    },
    {
      "cell_type": "markdown",
      "metadata": {
        "id": "HaPNAkBiGCkA"
      },
      "source": [
        "## Predict class for unlabeled samples\n",
        "We shall use our trained model to predict the output class for the unlabeled samples."
      ]
    },
    {
      "cell_type": "code",
      "metadata": {
        "colab": {
          "base_uri": "https://localhost:8080/",
          "height": 990
        },
        "id": "yEqI9Ic6GV_v",
        "outputId": "39799fe0-6351-4887-9610-ee6ea2b4bfd4"
      },
      "source": [
        "predicted_new = chosen_model.predict(X_new) # predicted classes for unlabeled samples\n",
        "churn_prediction = pd.DataFrame() # dataframe with predicted classes\n",
        "churn_prediction['ID'] = new.ID # identifiers for unlabeled samples\n",
        "churn_prediction['y'] = predicted_new # # predicted classes for unlabeled samples\n",
        "churn_prediction.to_csv('churn.prediction.csv', index=False) # save as CSV file\n",
        "churn_prediction # display results"
      ],
      "execution_count": 21,
      "outputs": [
        {
          "output_type": "execute_result",
          "data": {
            "text/plain": [
              "        ID    y\n",
              "0   ID_001  0.0\n",
              "1   ID_002  1.0\n",
              "2   ID_003  0.0\n",
              "3   ID_004  0.0\n",
              "4   ID_005  0.0\n",
              "5   ID_006  0.0\n",
              "6   ID_007  0.0\n",
              "7   ID_008  0.0\n",
              "8   ID_009  0.0\n",
              "9   ID_010  0.0\n",
              "10  ID_011  0.0\n",
              "11  ID_012  0.0\n",
              "12  ID_013  1.0\n",
              "13  ID_014  1.0\n",
              "14  ID_015  1.0\n",
              "15  ID_016  1.0\n",
              "16  ID_017  1.0\n",
              "17  ID_018  1.0\n",
              "18  ID_019  1.0\n",
              "19  ID_020  1.0\n",
              "20  ID_021  1.0\n",
              "21  ID_022  1.0\n",
              "22  ID_023  2.0\n",
              "23  ID_024  2.0\n",
              "24  ID_025  2.0\n",
              "25  ID_026  2.0\n",
              "26  ID_027  2.0\n",
              "27  ID_028  2.0\n",
              "28  ID_029  2.0\n",
              "29  ID_030  2.0"
            ],
            "text/html": [
              "\n",
              "  <div id=\"df-731fd270-e04f-466a-bb25-ac49b929e0b1\" class=\"colab-df-container\">\n",
              "    <div>\n",
              "<style scoped>\n",
              "    .dataframe tbody tr th:only-of-type {\n",
              "        vertical-align: middle;\n",
              "    }\n",
              "\n",
              "    .dataframe tbody tr th {\n",
              "        vertical-align: top;\n",
              "    }\n",
              "\n",
              "    .dataframe thead th {\n",
              "        text-align: right;\n",
              "    }\n",
              "</style>\n",
              "<table border=\"1\" class=\"dataframe\">\n",
              "  <thead>\n",
              "    <tr style=\"text-align: right;\">\n",
              "      <th></th>\n",
              "      <th>ID</th>\n",
              "      <th>y</th>\n",
              "    </tr>\n",
              "  </thead>\n",
              "  <tbody>\n",
              "    <tr>\n",
              "      <th>0</th>\n",
              "      <td>ID_001</td>\n",
              "      <td>0.0</td>\n",
              "    </tr>\n",
              "    <tr>\n",
              "      <th>1</th>\n",
              "      <td>ID_002</td>\n",
              "      <td>1.0</td>\n",
              "    </tr>\n",
              "    <tr>\n",
              "      <th>2</th>\n",
              "      <td>ID_003</td>\n",
              "      <td>0.0</td>\n",
              "    </tr>\n",
              "    <tr>\n",
              "      <th>3</th>\n",
              "      <td>ID_004</td>\n",
              "      <td>0.0</td>\n",
              "    </tr>\n",
              "    <tr>\n",
              "      <th>4</th>\n",
              "      <td>ID_005</td>\n",
              "      <td>0.0</td>\n",
              "    </tr>\n",
              "    <tr>\n",
              "      <th>5</th>\n",
              "      <td>ID_006</td>\n",
              "      <td>0.0</td>\n",
              "    </tr>\n",
              "    <tr>\n",
              "      <th>6</th>\n",
              "      <td>ID_007</td>\n",
              "      <td>0.0</td>\n",
              "    </tr>\n",
              "    <tr>\n",
              "      <th>7</th>\n",
              "      <td>ID_008</td>\n",
              "      <td>0.0</td>\n",
              "    </tr>\n",
              "    <tr>\n",
              "      <th>8</th>\n",
              "      <td>ID_009</td>\n",
              "      <td>0.0</td>\n",
              "    </tr>\n",
              "    <tr>\n",
              "      <th>9</th>\n",
              "      <td>ID_010</td>\n",
              "      <td>0.0</td>\n",
              "    </tr>\n",
              "    <tr>\n",
              "      <th>10</th>\n",
              "      <td>ID_011</td>\n",
              "      <td>0.0</td>\n",
              "    </tr>\n",
              "    <tr>\n",
              "      <th>11</th>\n",
              "      <td>ID_012</td>\n",
              "      <td>0.0</td>\n",
              "    </tr>\n",
              "    <tr>\n",
              "      <th>12</th>\n",
              "      <td>ID_013</td>\n",
              "      <td>1.0</td>\n",
              "    </tr>\n",
              "    <tr>\n",
              "      <th>13</th>\n",
              "      <td>ID_014</td>\n",
              "      <td>1.0</td>\n",
              "    </tr>\n",
              "    <tr>\n",
              "      <th>14</th>\n",
              "      <td>ID_015</td>\n",
              "      <td>1.0</td>\n",
              "    </tr>\n",
              "    <tr>\n",
              "      <th>15</th>\n",
              "      <td>ID_016</td>\n",
              "      <td>1.0</td>\n",
              "    </tr>\n",
              "    <tr>\n",
              "      <th>16</th>\n",
              "      <td>ID_017</td>\n",
              "      <td>1.0</td>\n",
              "    </tr>\n",
              "    <tr>\n",
              "      <th>17</th>\n",
              "      <td>ID_018</td>\n",
              "      <td>1.0</td>\n",
              "    </tr>\n",
              "    <tr>\n",
              "      <th>18</th>\n",
              "      <td>ID_019</td>\n",
              "      <td>1.0</td>\n",
              "    </tr>\n",
              "    <tr>\n",
              "      <th>19</th>\n",
              "      <td>ID_020</td>\n",
              "      <td>1.0</td>\n",
              "    </tr>\n",
              "    <tr>\n",
              "      <th>20</th>\n",
              "      <td>ID_021</td>\n",
              "      <td>1.0</td>\n",
              "    </tr>\n",
              "    <tr>\n",
              "      <th>21</th>\n",
              "      <td>ID_022</td>\n",
              "      <td>1.0</td>\n",
              "    </tr>\n",
              "    <tr>\n",
              "      <th>22</th>\n",
              "      <td>ID_023</td>\n",
              "      <td>2.0</td>\n",
              "    </tr>\n",
              "    <tr>\n",
              "      <th>23</th>\n",
              "      <td>ID_024</td>\n",
              "      <td>2.0</td>\n",
              "    </tr>\n",
              "    <tr>\n",
              "      <th>24</th>\n",
              "      <td>ID_025</td>\n",
              "      <td>2.0</td>\n",
              "    </tr>\n",
              "    <tr>\n",
              "      <th>25</th>\n",
              "      <td>ID_026</td>\n",
              "      <td>2.0</td>\n",
              "    </tr>\n",
              "    <tr>\n",
              "      <th>26</th>\n",
              "      <td>ID_027</td>\n",
              "      <td>2.0</td>\n",
              "    </tr>\n",
              "    <tr>\n",
              "      <th>27</th>\n",
              "      <td>ID_028</td>\n",
              "      <td>2.0</td>\n",
              "    </tr>\n",
              "    <tr>\n",
              "      <th>28</th>\n",
              "      <td>ID_029</td>\n",
              "      <td>2.0</td>\n",
              "    </tr>\n",
              "    <tr>\n",
              "      <th>29</th>\n",
              "      <td>ID_030</td>\n",
              "      <td>2.0</td>\n",
              "    </tr>\n",
              "  </tbody>\n",
              "</table>\n",
              "</div>\n",
              "    <div class=\"colab-df-buttons\">\n",
              "\n",
              "  <div class=\"colab-df-container\">\n",
              "    <button class=\"colab-df-convert\" onclick=\"convertToInteractive('df-731fd270-e04f-466a-bb25-ac49b929e0b1')\"\n",
              "            title=\"Convert this dataframe to an interactive table.\"\n",
              "            style=\"display:none;\">\n",
              "\n",
              "  <svg xmlns=\"http://www.w3.org/2000/svg\" height=\"24px\" viewBox=\"0 -960 960 960\">\n",
              "    <path d=\"M120-120v-720h720v720H120Zm60-500h600v-160H180v160Zm220 220h160v-160H400v160Zm0 220h160v-160H400v160ZM180-400h160v-160H180v160Zm440 0h160v-160H620v160ZM180-180h160v-160H180v160Zm440 0h160v-160H620v160Z\"/>\n",
              "  </svg>\n",
              "    </button>\n",
              "\n",
              "  <style>\n",
              "    .colab-df-container {\n",
              "      display:flex;\n",
              "      gap: 12px;\n",
              "    }\n",
              "\n",
              "    .colab-df-convert {\n",
              "      background-color: #E8F0FE;\n",
              "      border: none;\n",
              "      border-radius: 50%;\n",
              "      cursor: pointer;\n",
              "      display: none;\n",
              "      fill: #1967D2;\n",
              "      height: 32px;\n",
              "      padding: 0 0 0 0;\n",
              "      width: 32px;\n",
              "    }\n",
              "\n",
              "    .colab-df-convert:hover {\n",
              "      background-color: #E2EBFA;\n",
              "      box-shadow: 0px 1px 2px rgba(60, 64, 67, 0.3), 0px 1px 3px 1px rgba(60, 64, 67, 0.15);\n",
              "      fill: #174EA6;\n",
              "    }\n",
              "\n",
              "    .colab-df-buttons div {\n",
              "      margin-bottom: 4px;\n",
              "    }\n",
              "\n",
              "    [theme=dark] .colab-df-convert {\n",
              "      background-color: #3B4455;\n",
              "      fill: #D2E3FC;\n",
              "    }\n",
              "\n",
              "    [theme=dark] .colab-df-convert:hover {\n",
              "      background-color: #434B5C;\n",
              "      box-shadow: 0px 1px 3px 1px rgba(0, 0, 0, 0.15);\n",
              "      filter: drop-shadow(0px 1px 2px rgba(0, 0, 0, 0.3));\n",
              "      fill: #FFFFFF;\n",
              "    }\n",
              "  </style>\n",
              "\n",
              "    <script>\n",
              "      const buttonEl =\n",
              "        document.querySelector('#df-731fd270-e04f-466a-bb25-ac49b929e0b1 button.colab-df-convert');\n",
              "      buttonEl.style.display =\n",
              "        google.colab.kernel.accessAllowed ? 'block' : 'none';\n",
              "\n",
              "      async function convertToInteractive(key) {\n",
              "        const element = document.querySelector('#df-731fd270-e04f-466a-bb25-ac49b929e0b1');\n",
              "        const dataTable =\n",
              "          await google.colab.kernel.invokeFunction('convertToInteractive',\n",
              "                                                    [key], {});\n",
              "        if (!dataTable) return;\n",
              "\n",
              "        const docLinkHtml = 'Like what you see? Visit the ' +\n",
              "          '<a target=\"_blank\" href=https://colab.research.google.com/notebooks/data_table.ipynb>data table notebook</a>'\n",
              "          + ' to learn more about interactive tables.';\n",
              "        element.innerHTML = '';\n",
              "        dataTable['output_type'] = 'display_data';\n",
              "        await google.colab.output.renderOutput(dataTable, element);\n",
              "        const docLink = document.createElement('div');\n",
              "        docLink.innerHTML = docLinkHtml;\n",
              "        element.appendChild(docLink);\n",
              "      }\n",
              "    </script>\n",
              "  </div>\n",
              "\n",
              "\n",
              "    <div id=\"df-d0feb229-5de0-4f1e-8dc2-7e2d766d499c\">\n",
              "      <button class=\"colab-df-quickchart\" onclick=\"quickchart('df-d0feb229-5de0-4f1e-8dc2-7e2d766d499c')\"\n",
              "                title=\"Suggest charts\"\n",
              "                style=\"display:none;\">\n",
              "\n",
              "<svg xmlns=\"http://www.w3.org/2000/svg\" height=\"24px\"viewBox=\"0 0 24 24\"\n",
              "     width=\"24px\">\n",
              "    <g>\n",
              "        <path d=\"M19 3H5c-1.1 0-2 .9-2 2v14c0 1.1.9 2 2 2h14c1.1 0 2-.9 2-2V5c0-1.1-.9-2-2-2zM9 17H7v-7h2v7zm4 0h-2V7h2v10zm4 0h-2v-4h2v4z\"/>\n",
              "    </g>\n",
              "</svg>\n",
              "      </button>\n",
              "\n",
              "<style>\n",
              "  .colab-df-quickchart {\n",
              "      --bg-color: #E8F0FE;\n",
              "      --fill-color: #1967D2;\n",
              "      --hover-bg-color: #E2EBFA;\n",
              "      --hover-fill-color: #174EA6;\n",
              "      --disabled-fill-color: #AAA;\n",
              "      --disabled-bg-color: #DDD;\n",
              "  }\n",
              "\n",
              "  [theme=dark] .colab-df-quickchart {\n",
              "      --bg-color: #3B4455;\n",
              "      --fill-color: #D2E3FC;\n",
              "      --hover-bg-color: #434B5C;\n",
              "      --hover-fill-color: #FFFFFF;\n",
              "      --disabled-bg-color: #3B4455;\n",
              "      --disabled-fill-color: #666;\n",
              "  }\n",
              "\n",
              "  .colab-df-quickchart {\n",
              "    background-color: var(--bg-color);\n",
              "    border: none;\n",
              "    border-radius: 50%;\n",
              "    cursor: pointer;\n",
              "    display: none;\n",
              "    fill: var(--fill-color);\n",
              "    height: 32px;\n",
              "    padding: 0;\n",
              "    width: 32px;\n",
              "  }\n",
              "\n",
              "  .colab-df-quickchart:hover {\n",
              "    background-color: var(--hover-bg-color);\n",
              "    box-shadow: 0 1px 2px rgba(60, 64, 67, 0.3), 0 1px 3px 1px rgba(60, 64, 67, 0.15);\n",
              "    fill: var(--button-hover-fill-color);\n",
              "  }\n",
              "\n",
              "  .colab-df-quickchart-complete:disabled,\n",
              "  .colab-df-quickchart-complete:disabled:hover {\n",
              "    background-color: var(--disabled-bg-color);\n",
              "    fill: var(--disabled-fill-color);\n",
              "    box-shadow: none;\n",
              "  }\n",
              "\n",
              "  .colab-df-spinner {\n",
              "    border: 2px solid var(--fill-color);\n",
              "    border-color: transparent;\n",
              "    border-bottom-color: var(--fill-color);\n",
              "    animation:\n",
              "      spin 1s steps(1) infinite;\n",
              "  }\n",
              "\n",
              "  @keyframes spin {\n",
              "    0% {\n",
              "      border-color: transparent;\n",
              "      border-bottom-color: var(--fill-color);\n",
              "      border-left-color: var(--fill-color);\n",
              "    }\n",
              "    20% {\n",
              "      border-color: transparent;\n",
              "      border-left-color: var(--fill-color);\n",
              "      border-top-color: var(--fill-color);\n",
              "    }\n",
              "    30% {\n",
              "      border-color: transparent;\n",
              "      border-left-color: var(--fill-color);\n",
              "      border-top-color: var(--fill-color);\n",
              "      border-right-color: var(--fill-color);\n",
              "    }\n",
              "    40% {\n",
              "      border-color: transparent;\n",
              "      border-right-color: var(--fill-color);\n",
              "      border-top-color: var(--fill-color);\n",
              "    }\n",
              "    60% {\n",
              "      border-color: transparent;\n",
              "      border-right-color: var(--fill-color);\n",
              "    }\n",
              "    80% {\n",
              "      border-color: transparent;\n",
              "      border-right-color: var(--fill-color);\n",
              "      border-bottom-color: var(--fill-color);\n",
              "    }\n",
              "    90% {\n",
              "      border-color: transparent;\n",
              "      border-bottom-color: var(--fill-color);\n",
              "    }\n",
              "  }\n",
              "</style>\n",
              "\n",
              "      <script>\n",
              "        async function quickchart(key) {\n",
              "          const quickchartButtonEl =\n",
              "            document.querySelector('#' + key + ' button');\n",
              "          quickchartButtonEl.disabled = true;  // To prevent multiple clicks.\n",
              "          quickchartButtonEl.classList.add('colab-df-spinner');\n",
              "          try {\n",
              "            const charts = await google.colab.kernel.invokeFunction(\n",
              "                'suggestCharts', [key], {});\n",
              "          } catch (error) {\n",
              "            console.error('Error during call to suggestCharts:', error);\n",
              "          }\n",
              "          quickchartButtonEl.classList.remove('colab-df-spinner');\n",
              "          quickchartButtonEl.classList.add('colab-df-quickchart-complete');\n",
              "        }\n",
              "        (() => {\n",
              "          let quickchartButtonEl =\n",
              "            document.querySelector('#df-d0feb229-5de0-4f1e-8dc2-7e2d766d499c button');\n",
              "          quickchartButtonEl.style.display =\n",
              "            google.colab.kernel.accessAllowed ? 'block' : 'none';\n",
              "        })();\n",
              "      </script>\n",
              "    </div>\n",
              "\n",
              "  <div id=\"id_6d903f6d-a1c9-4a1c-bda3-a7e1faa3ae0a\">\n",
              "    <style>\n",
              "      .colab-df-generate {\n",
              "        background-color: #E8F0FE;\n",
              "        border: none;\n",
              "        border-radius: 50%;\n",
              "        cursor: pointer;\n",
              "        display: none;\n",
              "        fill: #1967D2;\n",
              "        height: 32px;\n",
              "        padding: 0 0 0 0;\n",
              "        width: 32px;\n",
              "      }\n",
              "\n",
              "      .colab-df-generate:hover {\n",
              "        background-color: #E2EBFA;\n",
              "        box-shadow: 0px 1px 2px rgba(60, 64, 67, 0.3), 0px 1px 3px 1px rgba(60, 64, 67, 0.15);\n",
              "        fill: #174EA6;\n",
              "      }\n",
              "\n",
              "      [theme=dark] .colab-df-generate {\n",
              "        background-color: #3B4455;\n",
              "        fill: #D2E3FC;\n",
              "      }\n",
              "\n",
              "      [theme=dark] .colab-df-generate:hover {\n",
              "        background-color: #434B5C;\n",
              "        box-shadow: 0px 1px 3px 1px rgba(0, 0, 0, 0.15);\n",
              "        filter: drop-shadow(0px 1px 2px rgba(0, 0, 0, 0.3));\n",
              "        fill: #FFFFFF;\n",
              "      }\n",
              "    </style>\n",
              "    <button class=\"colab-df-generate\" onclick=\"generateWithVariable('churn_prediction')\"\n",
              "            title=\"Generate code using this dataframe.\"\n",
              "            style=\"display:none;\">\n",
              "\n",
              "  <svg xmlns=\"http://www.w3.org/2000/svg\" height=\"24px\"viewBox=\"0 0 24 24\"\n",
              "       width=\"24px\">\n",
              "    <path d=\"M7,19H8.4L18.45,9,17,7.55,7,17.6ZM5,21V16.75L18.45,3.32a2,2,0,0,1,2.83,0l1.4,1.43a1.91,1.91,0,0,1,.58,1.4,1.91,1.91,0,0,1-.58,1.4L9.25,21ZM18.45,9,17,7.55Zm-12,3A5.31,5.31,0,0,0,4.9,8.1,5.31,5.31,0,0,0,1,6.5,5.31,5.31,0,0,0,4.9,4.9,5.31,5.31,0,0,0,6.5,1,5.31,5.31,0,0,0,8.1,4.9,5.31,5.31,0,0,0,12,6.5,5.46,5.46,0,0,0,6.5,12Z\"/>\n",
              "  </svg>\n",
              "    </button>\n",
              "    <script>\n",
              "      (() => {\n",
              "      const buttonEl =\n",
              "        document.querySelector('#id_6d903f6d-a1c9-4a1c-bda3-a7e1faa3ae0a button.colab-df-generate');\n",
              "      buttonEl.style.display =\n",
              "        google.colab.kernel.accessAllowed ? 'block' : 'none';\n",
              "\n",
              "      buttonEl.onclick = () => {\n",
              "        google.colab.notebook.generateWithVariable('churn_prediction');\n",
              "      }\n",
              "      })();\n",
              "    </script>\n",
              "  </div>\n",
              "\n",
              "    </div>\n",
              "  </div>\n"
            ],
            "application/vnd.google.colaboratory.intrinsic+json": {
              "type": "dataframe",
              "variable_name": "churn_prediction",
              "summary": "{\n  \"name\": \"churn_prediction\",\n  \"rows\": 30,\n  \"fields\": [\n    {\n      \"column\": \"ID\",\n      \"properties\": {\n        \"dtype\": \"string\",\n        \"num_unique_values\": 30,\n        \"samples\": [\n          \"ID_028\",\n          \"ID_016\",\n          \"ID_024\"\n        ],\n        \"semantic_type\": \"\",\n        \"description\": \"\"\n      }\n    },\n    {\n      \"column\": \"y\",\n      \"properties\": {\n        \"dtype\": \"number\",\n        \"std\": 0.8030115728972383,\n        \"min\": 0.0,\n        \"max\": 2.0,\n        \"num_unique_values\": 3,\n        \"samples\": [\n          0.0,\n          1.0,\n          2.0\n        ],\n        \"semantic_type\": \"\",\n        \"description\": \"\"\n      }\n    }\n  ]\n}"
            }
          },
          "metadata": {},
          "execution_count": 21
        }
      ]
    }
  ]
}